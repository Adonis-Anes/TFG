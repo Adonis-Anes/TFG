{
 "cells": [
  {
   "cell_type": "code",
   "execution_count": 1,
   "id": "36181bf2",
   "metadata": {},
   "outputs": [],
   "source": [
    "import mne\n",
    "import os \n",
    "import sys\n",
    "from matplotlib import pyplot as plt\n",
    "import numpy as np\n",
    "from sklearn.svm import SVC\n",
    "from sklearn.ensemble import RandomForestClassifier\n",
    "from sklearn.neighbors import KNeighborsClassifier\n",
    "from sklearn.model_selection import GridSearchCV, StratifiedKFold\n",
    "from sklearn.preprocessing import StandardScaler\n",
    "from sklearn.pipeline    import Pipeline\n",
    "from sklearn.model_selection import train_test_split\n",
    "import pickle\n",
    "\n",
    "\n",
    "BASE_DIR = r'C:\\Users\\adoni\\Documents\\CurrentStudy'\n",
    "sys.path.append(rf'{BASE_DIR}\\src')\n",
    "\n",
    "from globals import DEFAULT_SESSION\n",
    "from preprocessing import preprocess_raw"
   ]
  },
  {
   "cell_type": "code",
   "execution_count": null,
   "id": "a02729c7",
   "metadata": {},
   "outputs": [],
   "source": [
    "BANDS = {\n",
    "            'delta': (1, 4),\n",
    "            'theta': (4, 8),\n",
    "            'alpha': (8, 12),\n",
    "            'beta': (12, 30),\n",
    "            'gamma': (30, 45)\n",
    "        }\n",
    "\n",
    "def extract_band_power_features(epochs, bands=BANDS):      \n",
    "    psd_obj = epochs.compute_psd(method='welch', fmin=1, fmax=45, n_fft=200, verbose=False)\n",
    "    psds = psd_obj.get_data()  # shape: (n_epochs, n_channels, n_freqs)\n",
    "    freqs = psd_obj.freqs\n",
    "\n",
    "    features = []\n",
    "    for epoch_psd in psds:  # shape: (n_channels, n_freqs)\n",
    "        epoch_feats = []\n",
    "        for fmin, fmax in bands.values():\n",
    "            freq_mask = (freqs >= fmin) & (freqs < fmax)\n",
    "            band_power = epoch_psd[:, freq_mask].mean(axis=1)  # mean power per channel in band\n",
    "            epoch_feats.extend(band_power)\n",
    "        features.append(epoch_feats)\n",
    "\n",
    "    return np.array(features)\n",
    "\n",
    "\n",
    "def extract_rel_band_power(epochs, bands=BANDS):\n",
    "    psd = epochs.compute_psd(method='welch', fmin=1, fmax=45,\n",
    "                             n_fft=200, verbose=False)\n",
    "    psds = psd.get_data()                # (n_epochs, n_ch, n_freqs)\n",
    "    freqs = psd.freqs\n",
    "    total_power = psds.mean(axis=2, keepdims=True)  # potencia total\n",
    "    feats = []\n",
    "    for ep in psds:                       # por epoch\n",
    "        rel = []\n",
    "        for fmin, fmax in bands.values():\n",
    "            mask = (freqs>=fmin)&(freqs<fmax)\n",
    "            bp = ep[:, mask].mean(axis=1)\n",
    "            rel.append(bp / (total_power[0,:,0] + 1e-12))\n",
    "        feats.append(np.log(np.concatenate(rel) + 1e-12))\n",
    "    return np.array(feats)\n",
    "\n",
    "\n",
    "def extract_time_features(epochs):\n",
    "    # epochs.get_data() -> shape (n_epochs, n_channels, n_times)\n",
    "    data = epochs.get_data()\n",
    "    means = data.mean(axis=2)\n",
    "    stds  = data.std(axis=2)\n",
    "    # Puedes añadir skew, kurtosis, etc.\n",
    "    return np.concatenate([means, stds], axis=1)  # shape (n_epochs, n_channels*2)\n",
    "\n",
    "\n",
    "def extract_band_ratios(band_features, n_bands = 5):\n",
    "    # band_features shape: (n_epochs, n_channels * n_bands)\n",
    "    n_ch = band_features.shape[1] // n_bands\n",
    "    bands = band_features.reshape(-1, n_bands, n_ch)  # (n_epochs, n_bands, n_ch)\n",
    "    # Ejemplo: ratio alpha/beta\n",
    "    theta = bands[:, 0, :]  # index 2: alpha\n",
    "    beta = bands[:, 1, :]   # index 3: beta\n",
    "\n",
    "    ratio = (theta + 1e-6) / (beta + 1e-6)\n",
    "    return ratio\n"
   ]
  },
  {
   "cell_type": "code",
   "execution_count": 6,
   "id": "1f4c0da1",
   "metadata": {},
   "outputs": [
    {
     "name": "stdout",
     "output_type": "stream",
     "text": [
      "Processing subject 002 (1/9)\n",
      "Processing subject 003 (2/9)\n",
      "Processing subject 005 (3/9)\n",
      "Processing subject 006 (4/9)\n",
      "Error processing sub-006_ses-S001_task-stroop_run-003_raw.fif: Could not find any of the events you specified.\n",
      "Processing subject 007 (5/9)\n",
      "Processing subject 008 (6/9)\n",
      "Processing subject 010 (7/9)\n"
     ]
    },
    {
     "name": "stderr",
     "output_type": "stream",
     "text": [
      "C:\\Users\\adoni\\Documents\\CurrentStudy\\src\\preprocessing.py:33: RuntimeWarning: filter_length (8449) is longer than the signal (8446), distortion is likely. Reduce filter length or filter a longer signal.\n",
      "  raw.filter(l_freq=l_freq,\n",
      "C:\\Users\\adoni\\Documents\\CurrentStudy\\src\\preprocessing.py:33: RuntimeWarning: filter_length (8449) is longer than the signal (8045), distortion is likely. Reduce filter length or filter a longer signal.\n",
      "  raw.filter(l_freq=l_freq,\n"
     ]
    },
    {
     "name": "stdout",
     "output_type": "stream",
     "text": [
      "Processing subject 011 (8/9)\n",
      "Processing subject 012 (9/9)\n"
     ]
    },
    {
     "name": "stderr",
     "output_type": "stream",
     "text": [
      "C:\\Users\\adoni\\Documents\\CurrentStudy\\src\\preprocessing.py:33: RuntimeWarning: filter_length (8449) is longer than the signal (8425), distortion is likely. Reduce filter length or filter a longer signal.\n",
      "  raw.filter(l_freq=l_freq,\n"
     ]
    },
    {
     "name": "stdout",
     "output_type": "stream",
     "text": [
      "Not setting metadata\n",
      "309 matching events found\n",
      "Applying baseline correction (mode: mean)\n",
      "Not setting metadata\n",
      "315 matching events found\n",
      "Applying baseline correction (mode: mean)\n",
      "Épocas concatenadas y nombres de archivo guardados.\n"
     ]
    },
    {
     "name": "stderr",
     "output_type": "stream",
     "text": [
      "C:\\Users\\adoni\\AppData\\Local\\Temp\\ipykernel_22100\\940773902.py:38: RuntimeWarning: Concatenation of Annotations within Epochs is not supported yet. All annotations will be dropped.\n",
      "  epochs_wc_concat = mne.concatenate_epochs(all_epochs_wc)\n",
      "C:\\Users\\adoni\\AppData\\Local\\Temp\\ipykernel_22100\\940773902.py:39: RuntimeWarning: Concatenation of Annotations within Epochs is not supported yet. All annotations will be dropped.\n",
      "  epochs_wi_concat = mne.concatenate_epochs(all_epochs_wi)\n"
     ]
    }
   ],
   "source": [
    "DATA_DIR = os.path.join(BASE_DIR, 'data', 'eeg')\n",
    "SUBJECTS = ['002','003','005','006', '007', '008', '010','011','012']\n",
    "CHANNELS = ['F7','F3','Fz','F4','F8','C3','Cz','C4','P7','P3','Pz','P4','P8']\n",
    "\n",
    "all_epochs_wc = []\n",
    "all_epochs_wi = []\n",
    "files_name = []\n",
    "for i, sub in enumerate(SUBJECTS):\n",
    "    print(f'Processing subject {sub} ({i+1}/{len(SUBJECTS)})')\n",
    "    clean_dir = os.path.join(DATA_DIR, f'sub-{sub}', DEFAULT_SESSION, 'raw-ICA-annot')\n",
    "    if os.path.exists(clean_dir):\n",
    "        for file_name in os.listdir(clean_dir):\n",
    "            if file_name.endswith('.fif'):\n",
    "                fname = os.path.join(clean_dir, file_name)\n",
    "                files_name.append(file_name)\n",
    "                raw = mne.io.read_raw_fif(fname, preload=True, verbose=False).pick(CHANNELS, verbose=False)\n",
    "                preprocess_raw(raw, h_freq=48, interpolate_bads=True)\n",
    "                raw.resample(250, npad='auto', verbose=False)  # Resample to 250 Hz\n",
    "                raw.del_proj()  # Drop any existing projections                #raw.interpolate_bads(reset_bads=True, verbose=False)\n",
    "                event_id = {'WC': 1, 'WI': 2}  # Definir los códigos de eventos esperados\n",
    "                try:\n",
    "                    events, _ = mne.events_from_annotations(raw, event_id=event_id, verbose=False)\n",
    "                except Exception as e:\n",
    "                    print(f\"Error processing {file_name}: {e}\")\n",
    "                    continue\n",
    "                try:\n",
    "                    epocsh_wc = mne.Epochs(raw, events, event_id=1, tmin=-0.1, tmax=.8, \n",
    "                                        preload=True, verbose=False, reject={'eeg': 100e-6})\n",
    "                    epochs_wi = mne.Epochs(raw, events, event_id=2, tmin=-0.1, tmax=.8, \n",
    "                                        preload=True, verbose=False, reject={'eeg': 100e-6})\n",
    "                except Exception as e:\n",
    "                    print(f\"Error creating epochs for {file_name}: {e}\")\n",
    "                all_epochs_wc.append(epocsh_wc)\n",
    "                all_epochs_wi.append(epochs_wi)\n",
    "\n",
    "\n",
    "epochs_wc_concat = mne.concatenate_epochs(all_epochs_wc)\n",
    "epochs_wi_concat = mne.concatenate_epochs(all_epochs_wi)\n",
    "\n",
    "# Guardar las épocas concatenadas y los nombres de archivo\n",
    "with open(\"epochs_wc_concat.pkl\", \"wb\") as f:\n",
    "    pickle.dump(epochs_wc_concat, f)\n",
    "with open(\"epochs_wi_concat.pkl\", \"wb\") as f:\n",
    "    pickle.dump(epochs_wi_concat, f)\n",
    "with open(\"files_name.pkl\", \"wb\") as f:\n",
    "    pickle.dump(files_name, f)\n",
    "\n",
    "print(\"Épocas concatenadas y nombres de archivo guardados.\")\n"
   ]
  },
  {
   "cell_type": "code",
   "execution_count": 83,
   "id": "5b89bc56",
   "metadata": {},
   "outputs": [],
   "source": [
    "with open(\"epochs_wc_concat.pkl\", \"rb\") as f:\n",
    "    epochs_wc_concat = pickle.load(f)\n",
    "with open(\"epochs_wi_concat.pkl\", \"rb\") as f:\n",
    "    epochs_wi_concat = pickle.load(f)\n",
    "with open(\"files_name.pkl\", \"rb\") as f:\n",
    "    files_name = pickle.load(f)"
   ]
  },
  {
   "cell_type": "code",
   "execution_count": 91,
   "id": "f0c71107",
   "metadata": {},
   "outputs": [],
   "source": [
    "time_feats_wc = extract_time_features(epochs_wc_concat)  \n",
    "time_feats_wi = extract_time_features(epochs_wi_concat)  \n",
    "\n",
    "band_feats_wc = extract_band_power_features(epochs_wc_concat) \n",
    "band_feats_wi = extract_band_power_features(epochs_wi_concat) \n",
    "\n",
    "rel_feats_wc = extract_rel_band_power(epochs_wc_concat)\n",
    "rel_feats_wi = extract_rel_band_power(epochs_wi_concat)\n",
    "\n",
    "ratio_feats_wc = extract_band_ratios(band_feats_wc)\n",
    "ratio_feats_wi = extract_band_ratios(band_feats_wi)"
   ]
  },
  {
   "cell_type": "code",
   "execution_count": null,
   "id": "e3bd9a11",
   "metadata": {},
   "outputs": [],
   "source": [
    "from sklearn.metrics import classification_report\n",
    "import joblib\n",
    "\n",
    "def aux_func2(\n",
    "    X_train, X_test, y_train, y_test, name,\n",
    "    scoring='accuracy',\n",
    "    save_models=True,\n",
    "    model_prefix=''\n",
    "):\n",
    "    \"\"\"\n",
    "    Entrena y evalúa SVM, RF y KNN con GridSearchCV.\n",
    "    Devuelve un diccionario con los mejores modelos y reports.\n",
    "    \"\"\"\n",
    "\n",
    "    # Definir pipelines y grids\n",
    "    models = {\n",
    "        'SVM': {\n",
    "            'pipeline': Pipeline([('scaler', StandardScaler()), ('clf', SVC())]),\n",
    "            'param_grid': {\n",
    "                'clf__C': [1e-3, 1e-1, 1, 10],\n",
    "                'clf__kernel': ['linear', 'rbf'],\n",
    "                'clf__gamma': ['scale', 'auto']\n",
    "            }\n",
    "        },\n",
    "        'RandomForest': {\n",
    "            'pipeline': Pipeline([('scaler', StandardScaler()), ('clf', RandomForestClassifier())]),\n",
    "            'param_grid': {\n",
    "                'clf__n_estimators': [40, 50, 100, 200, 300, 400, 500],\n",
    "                'clf__max_depth': [None, 10, 2, 30, 50, 70, 90, 110]\n",
    "            }\n",
    "        },\n",
    "        'KNN': {\n",
    "            'pipeline': Pipeline([('scaler', StandardScaler()), ('clf', KNeighborsClassifier())]),\n",
    "            'param_grid': {\n",
    "                'clf__n_neighbors': [7, 8, 9, 11, 12, 13, 14, 15],\n",
    "                'clf__metric': ['euclidean', 'manhattan', 'minkowski']\n",
    "            }\n",
    "        }\n",
    "    }\n",
    "\n",
    "    cv = StratifiedKFold(n_splits=5, shuffle=True, random_state=42)\n",
    "\n",
    "    grids = {}\n",
    "    reports = {}\n",
    "    for model_name, cfg in models.items():\n",
    "        grid = GridSearchCV(cfg['pipeline'], cfg['param_grid'], cv=cv, scoring=scoring)\n",
    "        grid.fit(X_train, y_train)\n",
    "        grids[model_name] = grid\n",
    "        y_pred = grid.predict(X_test)\n",
    "        report = classification_report(y_test, y_pred, target_names=['WC', 'WI'], output_dict=True)\n",
    "        reports[model_name] = report\n",
    "        print(f\"\\n=== {model_name} ({name}) ===\")\n",
    "        print(\"Best CV score:\", grid.best_score_)\n",
    "        print(\"Best params:\", grid.best_params_)\n",
    "        print(classification_report(y_test, y_pred, target_names=['WC', 'WI']))\n",
    "        # Guardar modelo\n",
    "        if save_models:\n",
    "            path = os.path.join(BASE_DIR, 'models', 'stroop')\n",
    "            fname = f\"{model_prefix}{name.replace(' ', '_')}_best_{model_name.lower()}.joblib\"\n",
    "            full_path = os.path.join(path, fname)\n",
    "            joblib.dump(grid.best_estimator_, full_path)\n",
    "    return grids, reports"
   ]
  },
  {
   "cell_type": "code",
   "execution_count": 110,
   "id": "ff4d587d",
   "metadata": {},
   "outputs": [
    {
     "name": "stdout",
     "output_type": "stream",
     "text": [
      "X_train shape: (499, 156), X_test shape: (125, 156)\n",
      "Train set: 499 samples, Test set: 125 samples\n",
      "Training set: 499 samples, WC: 247, WI: 252\n",
      "Test set: 125 samples, WC: 62, WI: 63\n",
      "Training set: 499 samples, WC: 49.50%, WI: 50.50%\n",
      "Test set: 125 samples, WC: 49.60%, WI: 50.40%\n"
     ]
    }
   ],
   "source": [
    "feats_wc = np.concatenate([band_feats_wc, rel_feats_wc, time_feats_wc], axis=1)  \n",
    "feats_wi = np.concatenate([band_feats_wi, rel_feats_wi, time_feats_wi], axis=1)  \n",
    "X = np.concatenate([feats_wc, feats_wi], axis=0)  \n",
    "y = np.array([0] * len(feats_wc) + [1] * len(feats_wi))  \n",
    "\n",
    "X_train, X_test, y_train, y_test = train_test_split(X, y, test_size=0.2, random_state=42, stratify=y)\n",
    "# print train and test set shapes\n",
    "print(f\"X_train shape: {X_train.shape}, X_test shape: {X_test.shape}\")\n",
    "#print train and test proportions eg train set: 80%, test set: 20%\n",
    "print(f\"Train set: {len(X_train)} samples, Test set: {len(X_test)} samples\")\n",
    "\n",
    "# print number of observations in each class and proportion\n",
    "print(f\"Training set: {len(y_train)} samples, WC: {np.sum(y_train==0)}, WI: {np.sum(y_train==1)}\")\n",
    "print(f\"Test set: {len(y_test)} samples, WC: {np.sum(y_test==0)}, WI: {np.sum(y_test==1)}\")\n",
    "# Now print like porcentage\n",
    "print(f\"Training set: {len(y_train)} samples, WC: {np.sum(y_train==0)/len(y_train)*100:.2f}%, WI: {np.sum(y_train==1)/len(y_train)*100:.2f}%\")\n",
    "print(f\"Test set: {len(y_test)} samples, WC: {np.sum(y_test==0)/len(y_test)*100:.2f}%, WI: {np.sum(y_test==1)/len(y_test)*100:.2f}%\")\n",
    "\n",
    "\n",
    "feats_wc_1 = np.concatenate([time_feats_wc], axis=1)  \n",
    "feats_wi_1 = np.concatenate([time_feats_wi], axis=1)  \n",
    "\n",
    "X_1 = np.concatenate([feats_wc_1, feats_wi_1], axis=0)  # (n_epochs_total, n_features)\n",
    "y_1 = np.array([0] * len(feats_wc_1) + [1] * len(feats_wi_1))  # 0 for WC, 1 for WI\n",
    "\n",
    "X_train1, X_test1, y_train1, y_test1 = train_test_split(X_1, y_1, test_size=0.2, random_state=42, stratify=y)\n",
    "\n",
    "# do it for time_feats + band_feats\n",
    "feats_wc_2 = np.concatenate([band_feats_wc, time_feats_wc], axis=1)  \n",
    "feats_wi_2 = np.concatenate([band_feats_wi, time_feats_wi], axis=1)  \n",
    "X_2 = np.concatenate([feats_wc_2, feats_wi_2], axis=0)  # (n_epochs_total, n_features)\n",
    "y_2 = np.array([0] * len(feats_wc_2) + [1] * len(feats_wi_2))  # 0 for WC, 1 for WI\n",
    "X_train2, X_test2, y_train2, y_test2 = train_test_split(X_2, y_2, test_size=0.2, random_state=42, stratify=y)\n",
    "\n",
    "# do it for time_feats + band_feats + ratio\n",
    "feats_wc_3 = np.concatenate([band_feats_wc, time_feats_wc, ratio_feats_wc], axis=1)  \n",
    "feats_wi_3 = np.concatenate([band_feats_wi, time_feats_wi, ratio_feats_wi], axis=1)  \n",
    "X_3 = np.concatenate([feats_wc_3, feats_wi_3], axis=0)  # (n_epochs_total, n_features)\n",
    "y_3 = np.array([0] * len(feats_wc_3) + [1] * len(feats_wi_3))  # 0 for WC, 1 for WI\n",
    "X_train3, X_test3, y_train3, y_test3 = train_test_split(X_3, y_3, test_size=0.2, random_state=42, stratify=y)\n",
    "\n",
    "feats_wc_4 = np.concatenate([rel_feats_wc, time_feats_wc, ratio_feats_wc, band_feats_wc], axis=1)  \n",
    "feats_wi_4 = np.concatenate([rel_feats_wi, time_feats_wi, ratio_feats_wi, band_feats_wi], axis=1)\n",
    "X_4 = np.concatenate([feats_wc_4, feats_wi_4], axis=0)  # (n_epochs_total, n_features)\n",
    "y_4 = np.array([0] * len(feats_wc_4) + [1] * len(feats_wi_4))  # 0 for WC, 1 for WI\n",
    "X_train4, X_test4, y_train4, y_test4 = train_test_split(X_4, y_4, test_size=0.2, random_state=42, stratify=y)\n",
    "\n",
    "feats_wc_5 = np.concatenate([rel_feats_wc, ratio_feats_wc, band_feats_wc], axis=1)  \n",
    "feats_wi_5 = np.concatenate([rel_feats_wi, ratio_feats_wi, band_feats_wi], axis=1)\n",
    "X_5 = np.concatenate([feats_wc_5, feats_wi_5], axis=0)  # (n_epochs_total, n_features)\n",
    "y_5 = np.array([0] * len(feats_wc_5) + [1] * len(feats_wi_5))  # 0 for WC, 1 for WI\n",
    "X_train5, X_test5, y_train5, y_test5 = train_test_split(X_5, y_5, test_size=0.2, random_state=42, stratify=y)\n",
    "\n",
    "feats_wc_6 = np.concatenate([rel_feats_wc], axis=1)\n",
    "feats_wi_6 = np.concatenate([rel_feats_wi], axis=1)\n",
    "X_6 = np.concatenate([feats_wc_6, feats_wi_6], axis=0)  # (n_epochs_total, n_features)\n",
    "y_6 = np.array([0] * len(feats_wc_6) + [1] * len(feats_wi_6))  # 0 for WC, 1 for WI\n",
    "X_train6, X_test6, y_train6, y_test6 = train_test_split(X_6, y_6, test_size=0.2, random_state=42, stratify=y)\n"
   ]
  },
  {
   "cell_type": "code",
   "execution_count": 111,
   "id": "6be1a363",
   "metadata": {},
   "outputs": [
    {
     "name": "stdout",
     "output_type": "stream",
     "text": [
      "\n",
      "=== SVM (Relative Band Power) ===\n",
      "Best CV score: 0.8957575757575758\n",
      "Best params: {'clf__C': 0.1, 'clf__gamma': 'scale', 'clf__kernel': 'linear'}\n",
      "              precision    recall  f1-score   support\n",
      "\n",
      "          WC       0.93      0.87      0.90        62\n",
      "          WI       0.88      0.94      0.91        63\n",
      "\n",
      "    accuracy                           0.90       125\n",
      "   macro avg       0.91      0.90      0.90       125\n",
      "weighted avg       0.91      0.90      0.90       125\n",
      "\n",
      "\n",
      "=== RandomForest (Relative Band Power) ===\n",
      "Best CV score: 0.8416969696969696\n",
      "Best params: {'clf__max_depth': 50, 'clf__n_estimators': 300}\n",
      "              precision    recall  f1-score   support\n",
      "\n",
      "          WC       0.80      0.82      0.81        62\n",
      "          WI       0.82      0.79      0.81        63\n",
      "\n",
      "    accuracy                           0.81       125\n",
      "   macro avg       0.81      0.81      0.81       125\n",
      "weighted avg       0.81      0.81      0.81       125\n",
      "\n",
      "\n",
      "=== KNN (Relative Band Power) ===\n",
      "Best CV score: 0.7275151515151516\n",
      "Best params: {'clf__metric': 'manhattan', 'clf__n_neighbors': 14}\n",
      "              precision    recall  f1-score   support\n",
      "\n",
      "          WC       0.69      0.79      0.74        62\n",
      "          WI       0.76      0.65      0.70        63\n",
      "\n",
      "    accuracy                           0.72       125\n",
      "   macro avg       0.72      0.72      0.72       125\n",
      "weighted avg       0.72      0.72      0.72       125\n",
      "\n"
     ]
    }
   ],
   "source": [
    "grids6, reports6 = aux_func2(\n",
    "    X_train6, X_test6, y_train6, y_test6, 'Relative Band Power')"
   ]
  },
  {
   "cell_type": "code",
   "execution_count": 94,
   "id": "ec0c3398",
   "metadata": {},
   "outputs": [
    {
     "name": "stdout",
     "output_type": "stream",
     "text": [
      "\n",
      "=== SVM (All Features) ===\n",
      "Best CV score: 0.935878787878788\n",
      "Best params: {'clf__C': 0.1, 'clf__gamma': 'scale', 'clf__kernel': 'linear'}\n",
      "              precision    recall  f1-score   support\n",
      "\n",
      "          WC       0.94      0.95      0.94        62\n",
      "          WI       0.95      0.94      0.94        63\n",
      "\n",
      "    accuracy                           0.94       125\n",
      "   macro avg       0.94      0.94      0.94       125\n",
      "weighted avg       0.94      0.94      0.94       125\n",
      "\n",
      "\n",
      "=== RandomForest (All Features) ===\n",
      "Best CV score: 0.8477777777777777\n",
      "Best params: {'clf__max_depth': 90, 'clf__n_estimators': 200}\n",
      "              precision    recall  f1-score   support\n",
      "\n",
      "          WC       0.84      0.84      0.84        62\n",
      "          WI       0.84      0.84      0.84        63\n",
      "\n",
      "    accuracy                           0.84       125\n",
      "   macro avg       0.84      0.84      0.84       125\n",
      "weighted avg       0.84      0.84      0.84       125\n",
      "\n",
      "\n",
      "=== KNN (All Features) ===\n",
      "Best CV score: 0.6472525252525252\n",
      "Best params: {'clf__metric': 'manhattan', 'clf__n_neighbors': 11}\n",
      "              precision    recall  f1-score   support\n",
      "\n",
      "          WC       0.62      0.66      0.64        62\n",
      "          WI       0.64      0.60      0.62        63\n",
      "\n",
      "    accuracy                           0.63       125\n",
      "   macro avg       0.63      0.63      0.63       125\n",
      "weighted avg       0.63      0.63      0.63       125\n",
      "\n"
     ]
    }
   ],
   "source": [
    "grids, reports = aux_func2(X_train, X_test, y_train, y_test, 'band + rel + time', save_models=True, model_prefix='all_')"
   ]
  },
  {
   "cell_type": "code",
   "execution_count": 103,
   "id": "4e745be5",
   "metadata": {},
   "outputs": [
    {
     "name": "stdout",
     "output_type": "stream",
     "text": [
      "\n",
      "=== SVM (band + rel + time + ratio) ===\n",
      "Best CV score: 0.9318787878787879\n",
      "Best params: {'clf__C': 0.1, 'clf__gamma': 'scale', 'clf__kernel': 'linear'}\n",
      "              precision    recall  f1-score   support\n",
      "\n",
      "          WC       0.94      0.95      0.94        62\n",
      "          WI       0.95      0.94      0.94        63\n",
      "\n",
      "    accuracy                           0.94       125\n",
      "   macro avg       0.94      0.94      0.94       125\n",
      "weighted avg       0.94      0.94      0.94       125\n",
      "\n",
      "\n",
      "=== RandomForest (band + rel + time + ratio) ===\n",
      "Best CV score: 0.8617373737373738\n",
      "Best params: {'clf__max_depth': 90, 'clf__n_estimators': 400}\n",
      "              precision    recall  f1-score   support\n",
      "\n",
      "          WC       0.84      0.85      0.85        62\n",
      "          WI       0.85      0.84      0.85        63\n",
      "\n",
      "    accuracy                           0.85       125\n",
      "   macro avg       0.85      0.85      0.85       125\n",
      "weighted avg       0.85      0.85      0.85       125\n",
      "\n",
      "\n",
      "=== KNN (band + rel + time + ratio) ===\n",
      "Best CV score: 0.6253333333333333\n",
      "Best params: {'clf__metric': 'manhattan', 'clf__n_neighbors': 11}\n",
      "              precision    recall  f1-score   support\n",
      "\n",
      "          WC       0.59      0.65      0.62        62\n",
      "          WI       0.61      0.56      0.58        63\n",
      "\n",
      "    accuracy                           0.60       125\n",
      "   macro avg       0.60      0.60      0.60       125\n",
      "weighted avg       0.60      0.60      0.60       125\n",
      "\n"
     ]
    }
   ],
   "source": [
    "grids4, reports4 = aux_func2(X_train4, X_test4, y_train4, y_test4, 'band + rel + time + ratio', save_models=True, model_prefix='all_')"
   ]
  },
  {
   "cell_type": "code",
   "execution_count": 105,
   "id": "c1ecdfcf",
   "metadata": {},
   "outputs": [
    {
     "name": "stdout",
     "output_type": "stream",
     "text": [
      "\n",
      "=== SVM (band + rel + ratio) ===\n",
      "Best CV score: 0.933939393939394\n",
      "Best params: {'clf__C': 0.1, 'clf__gamma': 'scale', 'clf__kernel': 'linear'}\n",
      "              precision    recall  f1-score   support\n",
      "\n",
      "          WC       0.94      0.94      0.94        62\n",
      "          WI       0.94      0.94      0.94        63\n",
      "\n",
      "    accuracy                           0.94       125\n",
      "   macro avg       0.94      0.94      0.94       125\n",
      "weighted avg       0.94      0.94      0.94       125\n",
      "\n",
      "\n",
      "=== RandomForest (band + rel + ratio) ===\n",
      "Best CV score: 0.8496767676767677\n",
      "Best params: {'clf__max_depth': 50, 'clf__n_estimators': 200}\n",
      "              precision    recall  f1-score   support\n",
      "\n",
      "          WC       0.87      0.87      0.87        62\n",
      "          WI       0.87      0.87      0.87        63\n",
      "\n",
      "    accuracy                           0.87       125\n",
      "   macro avg       0.87      0.87      0.87       125\n",
      "weighted avg       0.87      0.87      0.87       125\n",
      "\n",
      "\n",
      "=== KNN (band + rel + ratio) ===\n",
      "Best CV score: 0.6392323232323232\n",
      "Best params: {'clf__metric': 'manhattan', 'clf__n_neighbors': 15}\n",
      "              precision    recall  f1-score   support\n",
      "\n",
      "          WC       0.67      0.60      0.63        62\n",
      "          WI       0.64      0.71      0.68        63\n",
      "\n",
      "    accuracy                           0.66       125\n",
      "   macro avg       0.66      0.66      0.65       125\n",
      "weighted avg       0.66      0.66      0.65       125\n",
      "\n"
     ]
    }
   ],
   "source": [
    "grids5, reports5 = aux_func2(X_train5, X_test5, y_train5, y_test5, 'band + rel + ratio', save_models=True)"
   ]
  },
  {
   "cell_type": "code",
   "execution_count": 107,
   "id": "339a48a5",
   "metadata": {},
   "outputs": [
    {
     "name": "stderr",
     "output_type": "stream",
     "text": [
      "c:\\Users\\adoni\\Documents\\CurrentStudy\\eeg_env_312\\Lib\\site-packages\\sklearn\\metrics\\_classification.py:1565: UndefinedMetricWarning: Precision is ill-defined and being set to 0.0 in labels with no predicted samples. Use `zero_division` parameter to control this behavior.\n",
      "  _warn_prf(average, modifier, f\"{metric.capitalize()} is\", len(result))\n",
      "c:\\Users\\adoni\\Documents\\CurrentStudy\\eeg_env_312\\Lib\\site-packages\\sklearn\\metrics\\_classification.py:1565: UndefinedMetricWarning: Precision is ill-defined and being set to 0.0 in labels with no predicted samples. Use `zero_division` parameter to control this behavior.\n",
      "  _warn_prf(average, modifier, f\"{metric.capitalize()} is\", len(result))\n",
      "c:\\Users\\adoni\\Documents\\CurrentStudy\\eeg_env_312\\Lib\\site-packages\\sklearn\\metrics\\_classification.py:1565: UndefinedMetricWarning: Precision is ill-defined and being set to 0.0 in labels with no predicted samples. Use `zero_division` parameter to control this behavior.\n",
      "  _warn_prf(average, modifier, f\"{metric.capitalize()} is\", len(result))\n",
      "c:\\Users\\adoni\\Documents\\CurrentStudy\\eeg_env_312\\Lib\\site-packages\\sklearn\\metrics\\_classification.py:1565: UndefinedMetricWarning: Precision is ill-defined and being set to 0.0 in labels with no predicted samples. Use `zero_division` parameter to control this behavior.\n",
      "  _warn_prf(average, modifier, f\"{metric.capitalize()} is\", len(result))\n",
      "c:\\Users\\adoni\\Documents\\CurrentStudy\\eeg_env_312\\Lib\\site-packages\\sklearn\\metrics\\_classification.py:1565: UndefinedMetricWarning: Precision is ill-defined and being set to 0.0 in labels with no predicted samples. Use `zero_division` parameter to control this behavior.\n",
      "  _warn_prf(average, modifier, f\"{metric.capitalize()} is\", len(result))\n",
      "c:\\Users\\adoni\\Documents\\CurrentStudy\\eeg_env_312\\Lib\\site-packages\\sklearn\\metrics\\_classification.py:1565: UndefinedMetricWarning: Precision is ill-defined and being set to 0.0 in labels with no predicted samples. Use `zero_division` parameter to control this behavior.\n",
      "  _warn_prf(average, modifier, f\"{metric.capitalize()} is\", len(result))\n"
     ]
    },
    {
     "name": "stdout",
     "output_type": "stream",
     "text": [
      "\n",
      "=== SVM (time) ===\n",
      "Best CV score: 0.505010101010101\n",
      "Best params: {'clf__C': 0.001, 'clf__gamma': 'scale', 'clf__kernel': 'linear'}\n",
      "              precision    recall  f1-score   support\n",
      "\n",
      "          WC       0.00      0.00      0.00        62\n",
      "          WI       0.50      1.00      0.67        63\n",
      "\n",
      "    accuracy                           0.50       125\n",
      "   macro avg       0.25      0.50      0.34       125\n",
      "weighted avg       0.25      0.50      0.34       125\n",
      "\n",
      "\n",
      "=== RandomForest (time) ===\n",
      "Best CV score: 0.5111515151515151\n",
      "Best params: {'clf__max_depth': 50, 'clf__n_estimators': 100}\n",
      "              precision    recall  f1-score   support\n",
      "\n",
      "          WC       0.45      0.50      0.47        62\n",
      "          WI       0.45      0.40      0.42        63\n",
      "\n",
      "    accuracy                           0.45       125\n",
      "   macro avg       0.45      0.45      0.45       125\n",
      "weighted avg       0.45      0.45      0.45       125\n",
      "\n",
      "\n",
      "=== KNN (time) ===\n",
      "Best CV score: 0.5151313131313131\n",
      "Best params: {'clf__metric': 'manhattan', 'clf__n_neighbors': 15}\n",
      "              precision    recall  f1-score   support\n",
      "\n",
      "          WC       0.48      0.56      0.52        62\n",
      "          WI       0.48      0.40      0.43        63\n",
      "\n",
      "    accuracy                           0.48       125\n",
      "   macro avg       0.48      0.48      0.48       125\n",
      "weighted avg       0.48      0.48      0.48       125\n",
      "\n"
     ]
    }
   ],
   "source": [
    "grids1, reports1 = aux_func2(X_train1, X_test1, y_train1, y_test1, name='time')"
   ]
  },
  {
   "cell_type": "code",
   "execution_count": 108,
   "id": "70977062",
   "metadata": {},
   "outputs": [
    {
     "name": "stdout",
     "output_type": "stream",
     "text": [
      "\n",
      "=== SVM (time + band) ===\n",
      "Best CV score: 0.509030303030303\n",
      "Best params: {'clf__C': 1, 'clf__gamma': 'scale', 'clf__kernel': 'linear'}\n",
      "              precision    recall  f1-score   support\n",
      "\n",
      "          WC       0.47      0.53      0.50        62\n",
      "          WI       0.47      0.41      0.44        63\n",
      "\n",
      "    accuracy                           0.47       125\n",
      "   macro avg       0.47      0.47      0.47       125\n",
      "weighted avg       0.47      0.47      0.47       125\n",
      "\n",
      "\n",
      "=== RandomForest (time + band) ===\n",
      "Best CV score: 0.497010101010101\n",
      "Best params: {'clf__max_depth': 10, 'clf__n_estimators': 100}\n",
      "              precision    recall  f1-score   support\n",
      "\n",
      "          WC       0.48      0.52      0.50        62\n",
      "          WI       0.48      0.44      0.46        63\n",
      "\n",
      "    accuracy                           0.48       125\n",
      "   macro avg       0.48      0.48      0.48       125\n",
      "weighted avg       0.48      0.48      0.48       125\n",
      "\n",
      "\n",
      "=== KNN (time + band) ===\n",
      "Best CV score: 0.49517171717171726\n",
      "Best params: {'clf__metric': 'manhattan', 'clf__n_neighbors': 7}\n",
      "              precision    recall  f1-score   support\n",
      "\n",
      "          WC       0.48      0.52      0.50        62\n",
      "          WI       0.49      0.46      0.48        63\n",
      "\n",
      "    accuracy                           0.49       125\n",
      "   macro avg       0.49      0.49      0.49       125\n",
      "weighted avg       0.49      0.49      0.49       125\n",
      "\n"
     ]
    }
   ],
   "source": [
    "grids2, reports2 = aux_func2(X_train2, X_test2, y_train2, y_test2, name='time + band')"
   ]
  },
  {
   "cell_type": "code",
   "execution_count": 109,
   "id": "cd6dc4ea",
   "metadata": {},
   "outputs": [
    {
     "name": "stdout",
     "output_type": "stream",
     "text": [
      "\n",
      "=== SVM (time + band + ratio) ===\n",
      "Best CV score: 0.511010101010101\n",
      "Best params: {'clf__C': 1, 'clf__gamma': 'scale', 'clf__kernel': 'linear'}\n",
      "              precision    recall  f1-score   support\n",
      "\n",
      "          WC       0.45      0.48      0.47        62\n",
      "          WI       0.46      0.43      0.44        63\n",
      "\n",
      "    accuracy                           0.46       125\n",
      "   macro avg       0.46      0.46      0.46       125\n",
      "weighted avg       0.46      0.46      0.46       125\n",
      "\n",
      "\n",
      "=== RandomForest (time + band + ratio) ===\n",
      "Best CV score: 0.5170505050505051\n",
      "Best params: {'clf__max_depth': 70, 'clf__n_estimators': 40}\n",
      "              precision    recall  f1-score   support\n",
      "\n",
      "          WC       0.50      0.50      0.50        62\n",
      "          WI       0.51      0.51      0.51        63\n",
      "\n",
      "    accuracy                           0.50       125\n",
      "   macro avg       0.50      0.50      0.50       125\n",
      "weighted avg       0.50      0.50      0.50       125\n",
      "\n",
      "\n",
      "=== KNN (time + band + ratio) ===\n",
      "Best CV score: 0.4951313131313131\n",
      "Best params: {'clf__metric': 'manhattan', 'clf__n_neighbors': 7}\n",
      "              precision    recall  f1-score   support\n",
      "\n",
      "          WC       0.47      0.47      0.47        62\n",
      "          WI       0.48      0.48      0.48        63\n",
      "\n",
      "    accuracy                           0.47       125\n",
      "   macro avg       0.47      0.47      0.47       125\n",
      "weighted avg       0.47      0.47      0.47       125\n",
      "\n"
     ]
    }
   ],
   "source": [
    "grids3, reports3 = aux_func2(X_train3, X_test3, y_train3, y_test3, name='time + band + ratio')"
   ]
  },
  {
   "cell_type": "code",
   "execution_count": 95,
   "id": "8fed3e97",
   "metadata": {},
   "outputs": [
    {
     "data": {
      "text/plain": [
       "{'SVM': GridSearchCV(cv=StratifiedKFold(n_splits=5, random_state=42, shuffle=True),\n",
       "              estimator=Pipeline(steps=[('scaler', StandardScaler()),\n",
       "                                        ('clf', SVC())]),\n",
       "              param_grid={'clf__C': [0.001, 0.1, 1, 10],\n",
       "                          'clf__gamma': ['scale', 'auto'],\n",
       "                          'clf__kernel': ['linear', 'rbf']},\n",
       "              scoring='accuracy'),\n",
       " 'RandomForest': GridSearchCV(cv=StratifiedKFold(n_splits=5, random_state=42, shuffle=True),\n",
       "              estimator=Pipeline(steps=[('scaler', StandardScaler()),\n",
       "                                        ('clf', RandomForestClassifier())]),\n",
       "              param_grid={'clf__max_depth': [None, 10, 2, 30, 50, 70, 90, 110],\n",
       "                          'clf__n_estimators': [40, 50, 100, 200, 300, 400,\n",
       "                                                500]},\n",
       "              scoring='accuracy'),\n",
       " 'KNN': GridSearchCV(cv=StratifiedKFold(n_splits=5, random_state=42, shuffle=True),\n",
       "              estimator=Pipeline(steps=[('scaler', StandardScaler()),\n",
       "                                        ('clf', KNeighborsClassifier())]),\n",
       "              param_grid={'clf__metric': ['euclidean', 'manhattan', 'minkowski'],\n",
       "                          'clf__n_neighbors': [7, 8, 9, 11, 12, 13, 14, 15]},\n",
       "              scoring='accuracy')}"
      ]
     },
     "execution_count": 95,
     "metadata": {},
     "output_type": "execute_result"
    }
   ],
   "source": [
    "grids"
   ]
  },
  {
   "cell_type": "code",
   "execution_count": null,
   "id": "5cb76127",
   "metadata": {},
   "outputs": [],
   "source": [
    "rf_model_more = grids5['RandomForest'].best_estimator_.named_steps['clf']\n",
    "rf_model_rp = grids6['RandomForest'].best_estimator_.named_steps['clf']"
   ]
  },
  {
   "cell_type": "code",
   "execution_count": 196,
   "id": "72d8cdf3",
   "metadata": {},
   "outputs": [],
   "source": [
    "# Define feature mapping function\n",
    "def map_feature_indices():\n",
    "    \"\"\"Crea un mapeo de índices de características a su descripción significativa.\"\"\"\n",
    "    feature_names = []\n",
    "    band_names = ['delta', 'theta', 'alpha', 'beta', 'gamma']\n",
    "\n",
    "    for band in band_names:\n",
    "        for ch in CHANNELS:\n",
    "            feature_names.append(f\"Rel_power_{band}_{ch}\")\n",
    "    for ch in CHANNELS:\n",
    "        feature_names.append(f\"Ratio_{ch}\")\n",
    "    for band in band_names:\n",
    "        for ch in CHANNELS:\n",
    "            feature_names.append(f\"Power_{band}_{ch}\")\n",
    "    \n",
    "    return feature_names\n",
    "\n",
    "# Define feature mapping function\n",
    "feature_names_more = map_feature_indices()"
   ]
  },
  {
   "cell_type": "code",
   "execution_count": 197,
   "id": "ce9912e7",
   "metadata": {},
   "outputs": [],
   "source": [
    "# Define feature mapping function\n",
    "def map_feature_indices():\n",
    "    \"\"\"Crea un mapeo de índices de características a su descripción significativa.\"\"\"\n",
    "    feature_names = []\n",
    "    band_names = ['delta', 'theta', 'alpha', 'beta', 'gamma']\n",
    "\n",
    "    for band in band_names:\n",
    "        for ch in CHANNELS:\n",
    "            feature_names.append(f\"Rel_power_{band}_{ch}\")\n",
    "    \n",
    "    return feature_names\n",
    "\n",
    "# Define feature mapping function\n",
    "feature_names_rp = map_feature_indices()"
   ]
  },
  {
   "cell_type": "code",
   "execution_count": 198,
   "id": "6a3ee897",
   "metadata": {},
   "outputs": [],
   "source": [
    "import pandas as pd\n",
    "\n",
    "# extract feature importances for both models\n",
    "importances_more = rf_model_more.feature_importances_\n",
    "importances_rp = rf_model_rp.feature_importances_"
   ]
  },
  {
   "cell_type": "code",
   "execution_count": 204,
   "id": "3116a461",
   "metadata": {},
   "outputs": [],
   "source": [
    "import numpy as np\n",
    "\n",
    "def mostrar_top_caracteristicas(importances, feature_names, top_n=20):\n",
    "    \"\"\"\n",
    "    Muestra las top_n características más importantes con sus nombres y porcentajes.\n",
    "    Args:\n",
    "        importances (np.ndarray): Importancias de las características.\n",
    "        feature_names (list): Lista de nombres de las características.\n",
    "        top_n (int): Número de características a mostrar.\n",
    "    \"\"\"\n",
    "    import matplotlib.pyplot as plt\n",
    "\n",
    "    indices = np.argsort(importances)[::-1]\n",
    "    importance_percentages = (importances / importances.sum()) * 100\n",
    "\n",
    "    print(f\"Top {top_n} características más importantes:\")\n",
    "    for i in range(min(top_n, len(importances))):\n",
    "        idx = indices[i]\n",
    "        name = feature_names[idx] if idx < len(feature_names) else f\"Feature {idx}\"\n",
    "        print(f\"{i+1}. {name}: {importances[idx]:.4f} ({importance_percentages[idx]:.2f}%)\")\n",
    "\n",
    "    # Gráfico de barras\n",
    "    plt.figure(figsize=(14, 6))\n",
    "    plt.title(f\"Top {top_n} most important features\")\n",
    "    plt.bar(range(top_n), importances[indices[:top_n]], align='center')\n",
    "    x_labels = [feature_names[indices[i]] if indices[i] < len(feature_names) else f\"Feature {indices[i]}\" for i in range(top_n)]\n",
    "    plt.xticks(range(top_n), x_labels, rotation=45, ha='right')\n",
    "    plt.xlabel(\"Features\")\n",
    "    plt.ylabel(\"Importance\")\n",
    "    plt.tight_layout()\n",
    "    plt.show()"
   ]
  },
  {
   "cell_type": "code",
   "execution_count": 205,
   "id": "ee397184",
   "metadata": {},
   "outputs": [
    {
     "name": "stdout",
     "output_type": "stream",
     "text": [
      "Top 30 características más importantes:\n",
      "1. Rel_power_beta_P8: 0.0616 (6.16%)\n",
      "2. Rel_power_gamma_P8: 0.0332 (3.32%)\n",
      "3. Rel_power_theta_P8: 0.0302 (3.02%)\n",
      "4. Rel_power_gamma_F7: 0.0294 (2.94%)\n",
      "5. Rel_power_beta_F7: 0.0293 (2.93%)\n",
      "6. Rel_power_delta_P8: 0.0236 (2.36%)\n",
      "7. Rel_power_alpha_P8: 0.0226 (2.26%)\n",
      "8. Rel_power_theta_F7: 0.0149 (1.49%)\n",
      "9. Rel_power_theta_C3: 0.0115 (1.15%)\n",
      "10. Rel_power_beta_Cz: 0.0114 (1.14%)\n",
      "11. Rel_power_alpha_F7: 0.0110 (1.10%)\n",
      "12. Power_delta_P8: 0.0104 (1.04%)\n",
      "13. Rel_power_gamma_Cz: 0.0104 (1.04%)\n",
      "14. Rel_power_beta_C4: 0.0102 (1.02%)\n",
      "15. Power_beta_P8: 0.0101 (1.01%)\n",
      "16. Rel_power_beta_P3: 0.0097 (0.97%)\n",
      "17. Rel_power_gamma_P7: 0.0094 (0.94%)\n",
      "18. Rel_power_beta_P7: 0.0094 (0.94%)\n",
      "19. Rel_power_alpha_P7: 0.0094 (0.94%)\n",
      "20. Rel_power_delta_F7: 0.0091 (0.91%)\n",
      "21. Power_beta_F7: 0.0090 (0.90%)\n",
      "22. Rel_power_theta_P7: 0.0084 (0.84%)\n",
      "23. Rel_power_alpha_Cz: 0.0084 (0.84%)\n",
      "24. Rel_power_beta_Fz: 0.0083 (0.83%)\n",
      "25. Power_gamma_F7: 0.0080 (0.80%)\n",
      "26. Rel_power_delta_P3: 0.0079 (0.79%)\n",
      "27. Rel_power_delta_C3: 0.0079 (0.79%)\n",
      "28. Power_theta_P8: 0.0079 (0.79%)\n",
      "29. Power_alpha_P8: 0.0076 (0.76%)\n",
      "30. Power_gamma_P8: 0.0075 (0.75%)\n"
     ]
    },
    {
     "data": {
      "image/png": "[encoded data removed]",
      "text/plain": [
       "<Figure size 1400x600 with 1 Axes>"
      ]
     },
     "metadata": {},
     "output_type": "display_data"
    }
   ],
   "source": [
    "mostrar_top_caracteristicas(importances_more, feature_names_more, top_n=30)"
   ]
  },
  {
   "cell_type": "code",
   "execution_count": null,
   "id": "c14a7215",
   "metadata": {},
   "outputs": [],
   "source": [
    "importances_more"
   ]
  },
  {
   "cell_type": "code",
   "execution_count": 212,
   "id": "a969ceb4",
   "metadata": {},
   "outputs": [],
   "source": [
    "def plot_all_importances(model, model_name):\n",
    "    #get the most important features\n",
    "    importances = model.feature_importances_\n",
    "    indices = np.argsort(importances)[::-1]\n",
    "    #Plot the feature importances\n",
    "    plt.figure(figsize=(10, 6))\n",
    "    plt.title(f\"Feature importances - {model_name}\")\n",
    "    plt.bar(range(model.n_features_in_ ), importances[indices], align='center')\n",
    "    plt.xlim([-1, model.n_features_in_])"
   ]
  },
  {
   "cell_type": "code",
   "execution_count": 213,
   "id": "bbfb3063",
   "metadata": {},
   "outputs": [
    {
     "data": {
      "image/png": "[encoded data removed]",
      "text/plain": [
       "<Figure size 1000x600 with 1 Axes>"
      ]
     },
     "metadata": {},
     "output_type": "display_data"
    }
   ],
   "source": [
    "plot_all_importances(rf_model_more, \"model 1\")"
   ]
  },
  {
   "cell_type": "code",
   "execution_count": 214,
   "id": "22f752c3",
   "metadata": {},
   "outputs": [
    {
     "data": {
      "image/png": "[encoded data removed]",
      "text/plain": [
       "<Figure size 1000x600 with 1 Axes>"
      ]
     },
     "metadata": {},
     "output_type": "display_data"
    }
   ],
   "source": [
    "plot_all_importances(rf_model_rp, \"model 2\")"
   ]
  },
  {
   "cell_type": "code",
   "execution_count": 217,
   "id": "3d3e26fb",
   "metadata": {},
   "outputs": [],
   "source": [
    "def num_features_for_percent(importances, percent=80):\n",
    "    \"\"\"\n",
    "    Calcula el número mínimo de características necesarias para acumular al menos 'percent'% de la importancia total.\n",
    "    Args:\n",
    "        importances (np.ndarray): Importancias de las características.\n",
    "        percent (float): Porcentaje objetivo de importancia acumulada (0-100).\n",
    "    Returns:\n",
    "        int: Número de características necesarias.\n",
    "    \"\"\"\n",
    "    sorted_importances = np.sort(importances)[::-1]\n",
    "    cumulative = np.cumsum(sorted_importances)\n",
    "    total = cumulative[-1]\n",
    "    cutoff = percent / 100 * total\n",
    "    num_feats = np.searchsorted(cumulative, cutoff) + 1\n",
    "    return num_feats\n"
   ]
  },
  {
   "cell_type": "code",
   "execution_count": 216,
   "id": "20d6822c",
   "metadata": {},
   "outputs": [
    {
     "name": "stdout",
     "output_type": "stream",
     "text": [
      "93\n",
      "43\n"
     ]
    }
   ],
   "source": [
    "# Ejemplo de uso:\n",
    "print(num_features_for_percent(importances_more, percent=80))\n",
    "print(num_features_for_percent(importances_rp, percent=80))\n"
   ]
  },
  {
   "cell_type": "code",
   "execution_count": 218,
   "id": "50832076",
   "metadata": {},
   "outputs": [],
   "source": [
    "# Obtener el número de características necesarias para acumular el 80% de la importancia\n",
    "num_feats_80 = num_features_for_percent(importances_rp, percent=80)\n",
    "\n",
    "# Ordenar los índices de importancia de mayor a menor\n",
    "indices_ordenados = np.argsort(importances_rp)[::-1]\n",
    "\n",
    "# Extraer los nombres de las características correspondientes\n",
    "top_features_80_rp = [feature_names_rp[idx] for idx in indices_ordenados[:num_feats_80]]"
   ]
  },
  {
   "cell_type": "code",
   "execution_count": 219,
   "id": "b3342520",
   "metadata": {},
   "outputs": [
    {
     "name": "stdout",
     "output_type": "stream",
     "text": [
      "           feature  importance\n",
      "11  Power_delta_P8    0.010395\n",
      "14   Power_beta_P8    0.010066\n",
      "20   Power_beta_F7    0.009011\n",
      "24  Power_gamma_F7    0.007959\n",
      "27  Power_theta_P8    0.007892\n",
      "28  Power_alpha_P8    0.007618\n",
      "29  Power_gamma_P8    0.007500\n",
      "35  Power_delta_P4    0.006689\n",
      "41  Power_delta_Pz    0.006434\n",
      "42        Ratio_P8    0.006323\n",
      "43  Power_theta_C3    0.006257\n",
      "46  Power_delta_Fz    0.006052\n",
      "47  Power_theta_Fz    0.006045\n",
      "48  Power_theta_Pz    0.005999\n",
      "49        Ratio_P7    0.005943\n",
      "50  Power_alpha_F3    0.005909\n",
      "54   Power_beta_C4    0.005838\n",
      "57  Power_delta_F7    0.005774\n",
      "60  Power_alpha_F8    0.005557\n",
      "61   Power_beta_Fz    0.005535\n"
     ]
    }
   ],
   "source": [
    "# Filtrar las 20 características más importantes que no sean 'Rel_power_...'\n",
    "feat_imp = pd.DataFrame({\n",
    "    'feature': feature_names_more,\n",
    "    'importance': importances_more\n",
    "})\n",
    "# Ordenar por importancia descendente\n",
    "feat_imp = feat_imp.sort_values('importance', ascending=False).reset_index(drop=True)\n",
    "\n",
    "# Seleccionar solo las que NO empiezan por 'Rel_power_'\n",
    "feat_imp_no_rel = feat_imp[~feat_imp['feature'].str.startswith('Rel_power_')]\n",
    "\n",
    "# Tomar las 20 más importantes de este subconjunto\n",
    "top20_no_rel = feat_imp_no_rel.head(20)\n",
    "print(top20_no_rel)"
   ]
  },
  {
   "cell_type": "code",
   "execution_count": 220,
   "id": "5a525cf1",
   "metadata": {},
   "outputs": [
    {
     "data": {
      "text/plain": [
       "63"
      ]
     },
     "execution_count": 220,
     "metadata": {},
     "output_type": "execute_result"
    }
   ],
   "source": [
    "top_feats = top20_no_rel['feature'].tolist() + top_features_80_rp\n",
    "len(top_feats)"
   ]
  },
  {
   "cell_type": "code",
   "execution_count": 224,
   "id": "d08195f2",
   "metadata": {},
   "outputs": [
    {
     "name": "stdout",
     "output_type": "stream",
     "text": [
      "['C3', 'C4', 'Cz', 'F3', 'F7', 'F8', 'Fz', 'P3', 'P4', 'P7', 'P8', 'Pz']\n"
     ]
    }
   ],
   "source": [
    "# Extraer nombres de canales únicos de top_feats\n",
    "new_channels = set()\n",
    "for feat in top_feats:\n",
    "    for ch in CHANNELS:\n",
    "        if ch in feat:\n",
    "            new_channels.add(ch)\n",
    "new_channels = sorted(new_channels)\n",
    "print(new_channels)"
   ]
  },
  {
   "cell_type": "code",
   "execution_count": 225,
   "id": "be1dbec9",
   "metadata": {},
   "outputs": [
    {
     "name": "stdout",
     "output_type": "stream",
     "text": [
      "Canales en CHANNELS pero no en canales_unicos: {'F4'}\n",
      "Canales en canales_unicos pero no en CHANNELS: set()\n",
      "Canales en ambos: {'F3', 'P3', 'P8', 'Cz', 'Fz', 'C4', 'F8', 'Pz', 'F7', 'C3', 'P7', 'P4'}\n"
     ]
    }
   ],
   "source": [
    "# Comparar CHANNELS con canales_unicos\n",
    "print(\"Canales en CHANNELS pero no en canales_unicos:\", set(CHANNELS) - set(new_channels))\n",
    "print(\"Canales en canales_unicos pero no en CHANNELS:\", set(new_channels) - set(CHANNELS))\n",
    "print(\"Canales en ambos:\", set(CHANNELS) & set(new_channels))"
   ]
  },
  {
   "cell_type": "code",
   "execution_count": 229,
   "id": "845128cc",
   "metadata": {},
   "outputs": [
    {
     "name": "stdout",
     "output_type": "stream",
     "text": [
      "Porcentaje de aparición de cada banda en top_feats:\n",
      "delta: 23.81%\n",
      "beta: 20.63%\n",
      "gamma: 12.70%\n",
      "theta: 20.63%\n",
      "alpha: 19.05%\n"
     ]
    }
   ],
   "source": [
    "from collections import Counter\n",
    "\n",
    "# Extraer la banda de cada característica en top_feats\n",
    "band_names = ['delta', 'theta', 'alpha', 'beta', 'gamma']\n",
    "band_counts = Counter()\n",
    "\n",
    "for feat in top_feats:\n",
    "    for band in band_names:\n",
    "        if band in feat:\n",
    "            band_counts[band] += 1\n",
    "\n",
    "total_feats = len(top_feats)\n",
    "band_percentages = {band: (count / total_feats) * 100 for band, count in band_counts.items()}\n",
    "\n",
    "print(\"Porcentaje de aparición de cada banda en top_feats:\")\n",
    "for band, perc in band_percentages.items():\n",
    "    print(f\"{band}: {perc:.2f}%\")"
   ]
  },
  {
   "cell_type": "code",
   "execution_count": 232,
   "id": "347a747b",
   "metadata": {},
   "outputs": [
    {
     "name": "stdout",
     "output_type": "stream",
     "text": [
      "x\n"
     ]
    }
   ],
   "source": [
    "print('x')"
   ]
  },
  {
   "cell_type": "code",
   "execution_count": 226,
   "id": "96e9879b",
   "metadata": {},
   "outputs": [
    {
     "name": "stdout",
     "output_type": "stream",
     "text": [
      "Shape de la nueva matriz de características: (624, 63)\n"
     ]
    }
   ],
   "source": [
    "# Suponiendo que tienes una matriz de características original (por ejemplo, X_4) y la lista top_feats ya definida\n",
    "\n",
    "# Primero, creamos un mapeo de nombre de característica a índice en feature_names_more\n",
    "feature_to_index = {name: idx for idx, name in enumerate(feature_names_more)}\n",
    "\n",
    "# Obtenemos los índices de las características que están en top_feats y también en feature_names_more\n",
    "selected_indices = [feature_to_index[feat] for feat in top_feats if feat in feature_to_index]\n",
    "\n",
    "# Creamos la nueva matriz de características usando X_4 y los índices seleccionados\n",
    "X_top = X_4[:, selected_indices]\n",
    "\n",
    "print(f\"Shape de la nueva matriz de características: {X_top.shape}\")"
   ]
  },
  {
   "cell_type": "code",
   "execution_count": 227,
   "id": "7fb885c0",
   "metadata": {},
   "outputs": [],
   "source": [
    "X_train_top, X_test_top, y_train_top, y_test_top = train_test_split(X_top, y_4, test_size=0.2, random_state=42, stratify=y_4)"
   ]
  },
  {
   "cell_type": "code",
   "execution_count": 228,
   "id": "5dbd084b",
   "metadata": {},
   "outputs": [
    {
     "name": "stdout",
     "output_type": "stream",
     "text": [
      "\n",
      "=== SVM (Top Features) ===\n",
      "Best CV score: 0.9218181818181819\n",
      "Best params: {'clf__C': 0.1, 'clf__gamma': 'scale', 'clf__kernel': 'linear'}\n",
      "              precision    recall  f1-score   support\n",
      "\n",
      "          WC       0.98      0.95      0.97        62\n",
      "          WI       0.95      0.98      0.97        63\n",
      "\n",
      "    accuracy                           0.97       125\n",
      "   macro avg       0.97      0.97      0.97       125\n",
      "weighted avg       0.97      0.97      0.97       125\n",
      "\n",
      "\n",
      "=== RandomForest (Top Features) ===\n",
      "Best CV score: 0.8657171717171718\n",
      "Best params: {'clf__max_depth': 110, 'clf__n_estimators': 400}\n",
      "              precision    recall  f1-score   support\n",
      "\n",
      "          WC       0.86      0.87      0.86        62\n",
      "          WI       0.87      0.86      0.86        63\n",
      "\n",
      "    accuracy                           0.86       125\n",
      "   macro avg       0.86      0.86      0.86       125\n",
      "weighted avg       0.86      0.86      0.86       125\n",
      "\n",
      "\n",
      "=== KNN (Top Features) ===\n",
      "Best CV score: 0.7514949494949494\n",
      "Best params: {'clf__metric': 'manhattan', 'clf__n_neighbors': 15}\n",
      "              precision    recall  f1-score   support\n",
      "\n",
      "          WC       0.78      0.79      0.78        62\n",
      "          WI       0.79      0.78      0.78        63\n",
      "\n",
      "    accuracy                           0.78       125\n",
      "   macro avg       0.78      0.78      0.78       125\n",
      "weighted avg       0.78      0.78      0.78       125\n",
      "\n"
     ]
    }
   ],
   "source": [
    "grids_top, reports_top = aux_func2(\n",
    "    X_train_top, X_test_top, y_train_top, y_test_top, 'Top Features',\n",
    "    save_models=True, model_prefix='top_')"
   ]
  }
 ],
 "metadata": {
  "kernelspec": {
   "display_name": "eeg_env_312",
   "language": "python",
   "name": "python3"
  },
  "language_info": {
   "codemirror_mode": {
    "name": "ipython",
    "version": 3
   },
   "file_extension": ".py",
   "mimetype": "text/x-python",
   "name": "python",
   "nbconvert_exporter": "python",
   "pygments_lexer": "ipython3",
   "version": "3.12.6"
  }
 },
 "nbformat": 4,
 "nbformat_minor": 5
}
