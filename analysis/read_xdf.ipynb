{
 "cells": [
  {
   "cell_type": "markdown",
   "id": "7c090bbd",
   "metadata": {},
   "source": [
    "# Análisis del archivo XDF"
   ]
  },
  {
   "cell_type": "markdown",
   "id": "a07a94f4",
   "metadata": {},
   "source": [
    "Librerías empleadas"
   ]
  },
  {
   "cell_type": "code",
   "execution_count": 1,
   "id": "d72dac59",
   "metadata": {},
   "outputs": [],
   "source": [
    "import pyxdf\n",
    "import mne\n",
    "from mne.preprocessing import ICA\n",
    "import numpy as np\n",
    "import os\n",
    "import matplotlib.pyplot as plt\n",
    "from datetime import date, datetime, timezone\n",
    "import pytz\n",
    "from scipy import stats\n",
    "import pyedflib\n",
    "from autoreject import AutoReject\n",
    "import json\n"
   ]
  },
  {
   "cell_type": "code",
   "execution_count": 6,
   "id": "427709b0",
   "metadata": {},
   "outputs": [],
   "source": [
    "def load_xdf_file(participant:str, task:str, run:str, session:str = 'S001') -> list:\n",
    "    file_name = f'sub-{participant}_ses-{session}_task-{task}_run-{run}_eeg.xdf'\n",
    "    dir = rf'C:\\Users\\adoni\\Documents\\CurrentStudy\\data\\eeg\\sub-{participant}\\ses-{session}\\xdf'\n",
    "    streams, header = pyxdf.load_xdf(os.path.join(dir, file_name), verbose=True)\n",
    "    return streams, header\n",
    "\n",
    "def find_stream_number(streams: list, stream_name: str) -> int:\n",
    "    for i, stream in enumerate(streams):\n",
    "        if stream_name in stream['info']['name'][0]:\n",
    "            return i\n",
    "    return -1"
   ]
  },
  {
   "cell_type": "code",
   "execution_count": 3,
   "id": "47bcd022",
   "metadata": {},
   "outputs": [],
   "source": [
    "participant = '006'\n",
    "run = '001'\n",
    "task = 'eyes_close'"
   ]
  },
  {
   "cell_type": "code",
   "execution_count": 9,
   "id": "387e9532",
   "metadata": {},
   "outputs": [],
   "source": [
    "streams, header = pyxdf.load_xdf(r\"C:\\Users\\adoni\\Documents\\CurrentStudy\\data\\eeg\\sub-006\\ses-S001\\xdf\\sub-dani_ses-S001_task-eyes_open_run-001.xdf\", verbose=True)"
   ]
  },
  {
   "cell_type": "code",
   "execution_count": 8,
   "id": "b5ca8496",
   "metadata": {},
   "outputs": [
    {
     "ename": "Exception",
     "evalue": "file C:\\Users\\adoni\\Documents\\CurrentStudy\\data\\eeg\\sub-006\\ses-S001\\xdf\\sub-006_ses-S001_task-eyes_close_run-001_eeg.xdf does not exist.",
     "output_type": "error",
     "traceback": [
      "\u001b[31m---------------------------------------------------------------------------\u001b[39m",
      "\u001b[31mException\u001b[39m                                 Traceback (most recent call last)",
      "\u001b[36mCell\u001b[39m\u001b[36m \u001b[39m\u001b[32mIn[8]\u001b[39m\u001b[32m, line 1\u001b[39m\n\u001b[32m----> \u001b[39m\u001b[32m1\u001b[39m streams = \u001b[43mload_xdf_file\u001b[49m\u001b[43m(\u001b[49m\u001b[43mparticipant\u001b[49m\u001b[43m,\u001b[49m\u001b[43m \u001b[49m\u001b[43mtask\u001b[49m\u001b[43m,\u001b[49m\u001b[43m \u001b[49m\u001b[43mrun\u001b[49m\u001b[43m)\u001b[49m\n",
      "\u001b[36mCell\u001b[39m\u001b[36m \u001b[39m\u001b[32mIn[6]\u001b[39m\u001b[32m, line 4\u001b[39m, in \u001b[36mload_xdf_file\u001b[39m\u001b[34m(participant, task, run, session)\u001b[39m\n\u001b[32m      2\u001b[39m file_name = \u001b[33mf\u001b[39m\u001b[33m'\u001b[39m\u001b[33msub-\u001b[39m\u001b[38;5;132;01m{\u001b[39;00mparticipant\u001b[38;5;132;01m}\u001b[39;00m\u001b[33m_ses-\u001b[39m\u001b[38;5;132;01m{\u001b[39;00msession\u001b[38;5;132;01m}\u001b[39;00m\u001b[33m_task-\u001b[39m\u001b[38;5;132;01m{\u001b[39;00mtask\u001b[38;5;132;01m}\u001b[39;00m\u001b[33m_run-\u001b[39m\u001b[38;5;132;01m{\u001b[39;00mrun\u001b[38;5;132;01m}\u001b[39;00m\u001b[33m_eeg.xdf\u001b[39m\u001b[33m'\u001b[39m\n\u001b[32m      3\u001b[39m \u001b[38;5;28mdir\u001b[39m = \u001b[33mrf\u001b[39m\u001b[33m'\u001b[39m\u001b[33mC:\u001b[39m\u001b[33m\\\u001b[39m\u001b[33mUsers\u001b[39m\u001b[33m\\\u001b[39m\u001b[33madoni\u001b[39m\u001b[33m\\\u001b[39m\u001b[33mDocuments\u001b[39m\u001b[33m\\\u001b[39m\u001b[33mCurrentStudy\u001b[39m\u001b[33m\\\u001b[39m\u001b[33mdata\u001b[39m\u001b[33m\\\u001b[39m\u001b[33meeg\u001b[39m\u001b[33m\\\u001b[39m\u001b[33msub-\u001b[39m\u001b[38;5;132;01m{\u001b[39;00mparticipant\u001b[38;5;132;01m}\u001b[39;00m\u001b[33m\\\u001b[39m\u001b[33mses-\u001b[39m\u001b[38;5;132;01m{\u001b[39;00msession\u001b[38;5;132;01m}\u001b[39;00m\u001b[33m\\\u001b[39m\u001b[33mxdf\u001b[39m\u001b[33m'\u001b[39m\n\u001b[32m----> \u001b[39m\u001b[32m4\u001b[39m streams, header = \u001b[43mpyxdf\u001b[49m\u001b[43m.\u001b[49m\u001b[43mload_xdf\u001b[49m\u001b[43m(\u001b[49m\u001b[43mos\u001b[49m\u001b[43m.\u001b[49m\u001b[43mpath\u001b[49m\u001b[43m.\u001b[49m\u001b[43mjoin\u001b[49m\u001b[43m(\u001b[49m\u001b[38;5;28;43mdir\u001b[39;49m\u001b[43m,\u001b[49m\u001b[43m \u001b[49m\u001b[43mfile_name\u001b[49m\u001b[43m)\u001b[49m\u001b[43m,\u001b[49m\u001b[43m \u001b[49m\u001b[43mverbose\u001b[49m\u001b[43m=\u001b[49m\u001b[38;5;28;43;01mTrue\u001b[39;49;00m\u001b[43m)\u001b[49m\n\u001b[32m      5\u001b[39m \u001b[38;5;28;01mreturn\u001b[39;00m streams, header\n",
      "\u001b[36mFile \u001b[39m\u001b[32mc:\\Users\\adoni\\Documents\\CurrentStudy\\eeg_env_312\\Lib\\site-packages\\pyxdf\\pyxdf.py:224\u001b[39m, in \u001b[36mload_xdf\u001b[39m\u001b[34m(filename, select_streams, on_chunk, synchronize_clocks, handle_clock_resets, dejitter_timestamps, jitter_break_threshold_seconds, jitter_break_threshold_samples, clock_reset_threshold_seconds, clock_reset_threshold_stds, clock_reset_threshold_offset_seconds, clock_reset_threshold_offset_stds, winsor_threshold, verbose)\u001b[39m\n\u001b[32m    221\u001b[39m \u001b[38;5;66;03m# XML content of the file header chunk\u001b[39;00m\n\u001b[32m    222\u001b[39m fileheader = \u001b[38;5;28;01mNone\u001b[39;00m\n\u001b[32m--> \u001b[39m\u001b[32m224\u001b[39m \u001b[38;5;28;01mwith\u001b[39;00m \u001b[43mopen_xdf\u001b[49m\u001b[43m(\u001b[49m\u001b[43mfilename\u001b[49m\u001b[43m)\u001b[49m \u001b[38;5;28;01mas\u001b[39;00m f:\n\u001b[32m    225\u001b[39m     \u001b[38;5;66;03m# for each chunk\u001b[39;00m\n\u001b[32m    226\u001b[39m     \u001b[38;5;28;01mwhile\u001b[39;00m \u001b[38;5;28;01mTrue\u001b[39;00m:\n\u001b[32m    227\u001b[39m         \u001b[38;5;66;03m# noinspection PyBroadException\u001b[39;00m\n\u001b[32m    228\u001b[39m         \u001b[38;5;28;01mtry\u001b[39;00m:\n\u001b[32m    229\u001b[39m             \u001b[38;5;66;03m# read [NumLengthBytes], [Length]\u001b[39;00m\n",
      "\u001b[36mFile \u001b[39m\u001b[32mc:\\Users\\adoni\\Documents\\CurrentStudy\\eeg_env_312\\Lib\\site-packages\\pyxdf\\pyxdf.py:421\u001b[39m, in \u001b[36mopen_xdf\u001b[39m\u001b[34m(file)\u001b[39m\n\u001b[32m    419\u001b[39m \u001b[38;5;66;03m# check absolute path after following symlinks\u001b[39;00m\n\u001b[32m    420\u001b[39m \u001b[38;5;28;01mif\u001b[39;00m \u001b[38;5;129;01mnot\u001b[39;00m filename.resolve().exists():\n\u001b[32m--> \u001b[39m\u001b[32m421\u001b[39m     \u001b[38;5;28;01mraise\u001b[39;00m \u001b[38;5;167;01mException\u001b[39;00m(\u001b[33m\"\u001b[39m\u001b[33mfile \u001b[39m\u001b[38;5;132;01m%s\u001b[39;00m\u001b[33m does not exist.\u001b[39m\u001b[33m\"\u001b[39m % filename)\n\u001b[32m    423\u001b[39m \u001b[38;5;28;01mif\u001b[39;00m filename.suffix == \u001b[33m\"\u001b[39m\u001b[33m.xdfz\u001b[39m\u001b[33m\"\u001b[39m \u001b[38;5;129;01mor\u001b[39;00m filename.suffixes == [\u001b[33m\"\u001b[39m\u001b[33m.xdf\u001b[39m\u001b[33m\"\u001b[39m, \u001b[33m\"\u001b[39m\u001b[33m.gz\u001b[39m\u001b[33m\"\u001b[39m]:\n\u001b[32m    424\u001b[39m     f = gzip.open(\u001b[38;5;28mstr\u001b[39m(filename), \u001b[33m\"\u001b[39m\u001b[33mrb\u001b[39m\u001b[33m\"\u001b[39m)\n",
      "\u001b[31mException\u001b[39m: file C:\\Users\\adoni\\Documents\\CurrentStudy\\data\\eeg\\sub-006\\ses-S001\\xdf\\sub-006_ses-S001_task-eyes_close_run-001_eeg.xdf does not exist."
     ]
    }
   ],
   "source": [
    "streams = load_xdf_file(participant, task, run)"
   ]
  },
  {
   "cell_type": "code",
   "execution_count": null,
   "id": "f4422d3e",
   "metadata": {},
   "outputs": [
    {
     "name": "stdout",
     "output_type": "stream",
     "text": [
      "Sync\n",
      "PsychoPyMarkers\n",
      "Start_Stop\n",
      "eeg_quality\n",
      "Markers\n",
      "eeg_eeg\n"
     ]
    }
   ],
   "source": [
    "for stream in streams:\n",
    "    print(stream['info']['name'][0])"
   ]
  },
  {
   "cell_type": "code",
   "execution_count": null,
   "id": "0fe6869a",
   "metadata": {},
   "outputs": [
    {
     "data": {
      "text/plain": [
       "np.float64(256.0136228147829)"
      ]
     },
     "execution_count": 5,
     "metadata": {},
     "output_type": "execute_result"
    }
   ],
   "source": [
    "eeg_stream['info']['effective_srate']"
   ]
  },
  {
   "cell_type": "code",
   "execution_count": null,
   "id": "070ad833",
   "metadata": {},
   "outputs": [
    {
     "data": {
      "text/plain": [
       "{'info': defaultdict(list,\n",
       "             {'name': ['PsychoPyMarkers'],\n",
       "              'type': ['Markers'],\n",
       "              'channel_count': ['1'],\n",
       "              'channel_format': ['string'],\n",
       "              'source_id': ['psychoEEGAdonis'],\n",
       "              'nominal_srate': ['0.000000000000000'],\n",
       "              'version': ['1.100000000000000'],\n",
       "              'created_at': ['256572.4434992000'],\n",
       "              'uid': ['ac7b6171-968d-4189-accf-6583534c4395'],\n",
       "              'session_id': ['default'],\n",
       "              'hostname': ['ultron'],\n",
       "              'v4address': [None],\n",
       "              'v4data_port': ['16577'],\n",
       "              'v4service_port': ['16577'],\n",
       "              'v6address': [None],\n",
       "              'v6data_port': ['16577'],\n",
       "              'v6service_port': ['16577'],\n",
       "              'desc': [None],\n",
       "              'stream_id': 3,\n",
       "              'effective_srate': 0,\n",
       "              'segments': []}),\n",
       " 'footer': {'info': defaultdict(list,\n",
       "              {'first_timestamp': ['256594.9595607'],\n",
       "               'last_timestamp': ['256635.7748952'],\n",
       "               'sample_count': ['95'],\n",
       "               'clock_offsets': [defaultdict(list,\n",
       "                            {'offset': [defaultdict(list,\n",
       "                                          {'time': ['256595.00479455'],\n",
       "                                           'value': ['-6.150003173388541e-06']}),\n",
       "                              defaultdict(list,\n",
       "                                          {'time': ['256600.00575085'],\n",
       "                                           'value': ['-2.115000097546726e-05']}),\n",
       "                              defaultdict(list,\n",
       "                                          {'time': ['256605.00589655'],\n",
       "                                           'value': ['-4.550005542114377e-06']}),\n",
       "                              defaultdict(list,\n",
       "                                          {'time': ['256610.0061208'],\n",
       "                                           'value': ['1.720000000204891e-05']}),\n",
       "                              defaultdict(list,\n",
       "                                          {'time': ['256615.00725535'],\n",
       "                                           'value': ['-2.175000554416329e-05']}),\n",
       "                              defaultdict(list,\n",
       "                                          {'time': ['256620.00755785'],\n",
       "                                           'value': ['-1.464999513700604e-05']}),\n",
       "                              defaultdict(list,\n",
       "                                          {'time': ['256625.00770045'],\n",
       "                                           'value': ['2.649991074576974e-06']}),\n",
       "                              defaultdict(list,\n",
       "                                          {'time': ['256630.00808765'],\n",
       "                                           'value': ['-1.53500004671514e-05']}),\n",
       "                              defaultdict(list,\n",
       "                                          {'time': ['256635.0090663'],\n",
       "                                           'value': ['-2.140000287909061e-05']}),\n",
       "                              defaultdict(list,\n",
       "                                          {'time': ['256640.00928545'],\n",
       "                                           'value': ['-1.02500052889809e-05']}),\n",
       "                              defaultdict(list,\n",
       "                                          {'time': ['256645.00931625'],\n",
       "                                           'value': ['-1.02500052889809e-05']}),\n",
       "                              defaultdict(list,\n",
       "                                          {'time': ['256650.00954695'],\n",
       "                                           'value': ['-1.02500052889809e-05']})]})]})},\n",
       " 'time_series': [['EXPERIMENT_START'],\n",
       "  ['INSTRUCTIONS_ONSET'],\n",
       "  ['TRIAL_START'],\n",
       "  ['WORD_ONSET_verde_green_Congruent'],\n",
       "  ['RESPONSE_down_Correct'],\n",
       "  ['TRIAL_START'],\n",
       "  ['WORD_ONSET_azul_blue_Congruent'],\n",
       "  ['RESPONSE_right_Correct'],\n",
       "  ['TRIAL_START'],\n",
       "  ['WORD_ONSET_verde_blue_Not_Congruent'],\n",
       "  ['RESPONSE_down_Incorrect'],\n",
       "  ['TRIAL_START'],\n",
       "  ['WORD_ONSET_azul_red_Not_Congruent'],\n",
       "  ['RESPONSE_left_Correct'],\n",
       "  ['TRIAL_START'],\n",
       "  ['WORD_ONSET_rojo_red_Congruent'],\n",
       "  ['RESPONSE_left_Correct'],\n",
       "  ['TRIAL_START'],\n",
       "  ['WORD_ONSET_rojo_green_Not_Congruent'],\n",
       "  ['RESPONSE_down_Correct'],\n",
       "  ['TRIAL_START'],\n",
       "  ['WORD_ONSET_rojo_green_Not_Congruent'],\n",
       "  ['RESPONSE_down_Correct'],\n",
       "  ['TRIAL_START'],\n",
       "  ['WORD_ONSET_verde_blue_Not_Congruent'],\n",
       "  ['RESPONSE_right_Correct'],\n",
       "  ['TRIAL_START'],\n",
       "  ['WORD_ONSET_verde_green_Congruent'],\n",
       "  ['RESPONSE_down_Correct'],\n",
       "  ['TRIAL_START'],\n",
       "  ['WORD_ONSET_azul_red_Not_Congruent'],\n",
       "  ['RESPONSE_left_Correct'],\n",
       "  ['TRIAL_START'],\n",
       "  ['WORD_ONSET_azul_blue_Congruent'],\n",
       "  ['RESPONSE_right_Correct'],\n",
       "  ['TRIAL_START'],\n",
       "  ['WORD_ONSET_rojo_red_Congruent'],\n",
       "  ['RESPONSE_left_Correct'],\n",
       "  ['TRIAL_START'],\n",
       "  ['WORD_ONSET_verde_blue_Not_Congruent'],\n",
       "  ['RESPONSE_right_Correct'],\n",
       "  ['TRIAL_START'],\n",
       "  ['WORD_ONSET_rojo_red_Congruent'],\n",
       "  ['RESPONSE_left_Correct'],\n",
       "  ['TRIAL_START'],\n",
       "  ['WORD_ONSET_azul_blue_Congruent'],\n",
       "  ['RESPONSE_right_Correct'],\n",
       "  ['TRIAL_START'],\n",
       "  ['WORD_ONSET_verde_green_Congruent'],\n",
       "  ['RESPONSE_down_Correct'],\n",
       "  ['TRIAL_START'],\n",
       "  ['WORD_ONSET_rojo_green_Not_Congruent'],\n",
       "  ['RESPONSE_down_Correct'],\n",
       "  ['TRIAL_START'],\n",
       "  ['WORD_ONSET_azul_red_Not_Congruent'],\n",
       "  ['RESPONSE_left_Correct'],\n",
       "  ['TRIAL_START'],\n",
       "  ['WORD_ONSET_verde_blue_Not_Congruent'],\n",
       "  ['RESPONSE_right_Correct'],\n",
       "  ['TRIAL_START'],\n",
       "  ['WORD_ONSET_verde_green_Congruent'],\n",
       "  ['RESPONSE_down_Correct'],\n",
       "  ['TRIAL_START'],\n",
       "  ['WORD_ONSET_rojo_red_Congruent'],\n",
       "  ['RESPONSE_left_Correct'],\n",
       "  ['TRIAL_START'],\n",
       "  ['WORD_ONSET_rojo_green_Not_Congruent'],\n",
       "  ['RESPONSE_down_Correct'],\n",
       "  ['TRIAL_START'],\n",
       "  ['WORD_ONSET_azul_blue_Congruent'],\n",
       "  ['RESPONSE_right_Correct'],\n",
       "  ['TRIAL_START'],\n",
       "  ['WORD_ONSET_azul_red_Not_Congruent'],\n",
       "  ['RESPONSE_left_Correct'],\n",
       "  ['TRIAL_START'],\n",
       "  ['WORD_ONSET_rojo_green_Not_Congruent'],\n",
       "  ['RESPONSE_down_Correct'],\n",
       "  ['TRIAL_START'],\n",
       "  ['WORD_ONSET_azul_red_Not_Congruent'],\n",
       "  ['RESPONSE_left_Correct'],\n",
       "  ['TRIAL_START'],\n",
       "  ['WORD_ONSET_verde_green_Congruent'],\n",
       "  ['RESPONSE_down_Correct'],\n",
       "  ['TRIAL_START'],\n",
       "  ['WORD_ONSET_verde_blue_Not_Congruent'],\n",
       "  ['RESPONSE_right_Correct'],\n",
       "  ['TRIAL_START'],\n",
       "  ['WORD_ONSET_rojo_red_Congruent'],\n",
       "  ['RESPONSE_left_Correct'],\n",
       "  ['TRIAL_START'],\n",
       "  ['WORD_ONSET_azul_blue_Congruent'],\n",
       "  ['RESPONSE_down_Incorrect'],\n",
       "  ['TRIAL_END'],\n",
       "  ['THANKS_START'],\n",
       "  ['THANKS_END'],\n",
       "  ['']],\n",
       " 'time_stamps': array([256594.9595538 , 256595.72746723, 256599.89003331, 256600.41204146,\n",
       "        256601.22949888, 256601.24091117, 256601.76303862, 256602.38036086,\n",
       "        256602.38710776, 256602.91420291, 256603.33147746, 256603.33812256,\n",
       "        256603.86453691, 256604.88256841, 256604.89727851, 256605.41579986,\n",
       "        256605.79986722, 256605.80257092, 256606.33326576, 256607.25099367,\n",
       "        256607.25393467, 256607.78485192, 256608.36901766, 256608.37578646,\n",
       "        256608.90270971, 256609.50304275, 256609.50569265, 256610.03639509,\n",
       "        256610.67022113, 256610.67536163, 256611.20384478, 256611.80449761,\n",
       "        256611.80719861, 256612.33819256, 256612.83890311, 256612.84548071,\n",
       "        256613.37232796, 256614.07272219, 256614.08202499, 256614.60652323,\n",
       "        256615.19018738, 256615.19575637, 256615.72360052, 256616.24098707,\n",
       "        256616.24755787, 256616.77429852, 256617.40869255, 256617.41613575,\n",
       "        256617.9424972 , 256618.52584554, 256618.53220984, 256619.05958099,\n",
       "        256619.51022434, 256619.51696604, 256620.04327219, 256620.67750123,\n",
       "        256620.68521582, 256621.21098597, 256621.72819992, 256621.73091232,\n",
       "        256622.26174477, 256622.9459306 , 256622.9524351 , 256623.47947104,\n",
       "        256624.01337319, 256624.01599609, 256624.54658784, 256625.14700358,\n",
       "        256625.15291148, 256625.68043692, 256626.18113587, 256626.18362927,\n",
       "        256626.71469912, 256627.31607546, 256627.32192086, 256627.84892311,\n",
       "        256628.33272526, 256628.33913196, 256628.8659674 , 256629.31667226,\n",
       "        256629.32392886, 256629.85035061, 256630.35116466, 256630.35385395,\n",
       "        256630.8843776 , 256631.41857065, 256631.42581015, 256631.95190339,\n",
       "        256632.40209725, 256632.40880615, 256632.9359364 , 256633.40323575,\n",
       "        256633.47333424, 256633.47351954, 256635.42127695, 256635.77488421]),\n",
       " 'clock_times': [256595.00479455,\n",
       "  256600.00575085002,\n",
       "  256605.00589655,\n",
       "  256610.00612079998,\n",
       "  256615.00725535,\n",
       "  256620.00755784998,\n",
       "  256625.00770045002,\n",
       "  256630.00808765,\n",
       "  256635.0090663,\n",
       "  256640.00928544998,\n",
       "  256645.00931624998,\n",
       "  256650.00954695],\n",
       " 'clock_values': [-6.150003173388541e-06,\n",
       "  -2.1150000975467265e-05,\n",
       "  -4.550005542114377e-06,\n",
       "  1.720000000204891e-05,\n",
       "  -2.1750005544163287e-05,\n",
       "  -1.4649995137006044e-05,\n",
       "  2.649991074576974e-06,\n",
       "  -1.5350000467151403e-05,\n",
       "  -2.1400002879090607e-05,\n",
       "  -1.0250005288980901e-05,\n",
       "  -1.0250005288980901e-05,\n",
       "  -1.0250005288980901e-05]}"
      ]
     },
     "execution_count": 8,
     "metadata": {},
     "output_type": "execute_result"
    }
   ],
   "source": [
    "streams[1]"
   ]
  },
  {
   "cell_type": "markdown",
   "id": "c20188fe",
   "metadata": {},
   "source": []
  },
  {
   "cell_type": "markdown",
   "id": "cb4d718d",
   "metadata": {},
   "source": [
    "### 1.0 Exploración inicial de los streams"
   ]
  },
  {
   "cell_type": "markdown",
   "id": "d882026c",
   "metadata": {},
   "source": [
    "Los _streams_ es un objeto de tipo lista que contiene donde cada elemento de la lista es a su vez un diccionario con la información relacionada con ese stream."
   ]
  },
  {
   "cell_type": "code",
   "execution_count": 239,
   "id": "d24c3cb6",
   "metadata": {},
   "outputs": [
    {
     "data": {
      "text/plain": [
       "[{'info': defaultdict(list,\n",
       "              {'name': ['Sync'],\n",
       "               'type': ['Markers'],\n",
       "               'channel_count': ['1'],\n",
       "               'channel_format': ['int16'],\n",
       "               'source_id': ['id23443'],\n",
       "               'nominal_srate': ['0.000000000000000'],\n",
       "               'version': ['1.100000000000000'],\n",
       "               'created_at': ['676276.3755888999'],\n",
       "               'uid': ['84ae9e15-6405-4d0a-a01a-44fc47d785fa'],\n",
       "               'session_id': ['default'],\n",
       "               'hostname': ['ultron'],\n",
       "               'v4address': [None],\n",
       "               'v4data_port': ['16572'],\n",
       "               'v4service_port': ['16572'],\n",
       "               'v6address': [None],\n",
       "               'v6data_port': ['16572'],\n",
       "               'v6service_port': ['16572'],\n",
       "               'desc': [None],\n",
       "               'stream_id': 1,\n",
       "               'effective_srate': 0,\n",
       "               'segments': []}),\n",
       "  'footer': {'info': defaultdict(list,\n",
       "               {'first_timestamp': ['676787.222697'],\n",
       "                'last_timestamp': ['676837.285864'],\n",
       "                'sample_count': ['5'],\n",
       "                'clock_offsets': [defaultdict(list,\n",
       "                             {'offset': [defaultdict(list,\n",
       "                                           {'time': ['676786.3091829501'],\n",
       "                                            'value': ['-1.095002517104149e-05']}),\n",
       "                               defaultdict(list,\n",
       "                                           {'time': ['676791.3101344'],\n",
       "                                            'value': ['-1.79000198841095e-05']}),\n",
       "                               defaultdict(list,\n",
       "                                           {'time': ['676796.31036665'],\n",
       "                                            'value': ['-1.285003963857889e-05']}),\n",
       "                               defaultdict(list,\n",
       "                                           {'time': ['676801.31957435'],\n",
       "                                            'value': ['-4.750036168843508e-06']}),\n",
       "                               defaultdict(list,\n",
       "                                           {'time': ['676806.3229873001'],\n",
       "                                            'value': ['1.89995625987649e-06']}),\n",
       "                               defaultdict(list,\n",
       "                                           {'time': ['676811.3340538'],\n",
       "                                            'value': ['1.489999704062939e-05']}),\n",
       "                               defaultdict(list,\n",
       "                                           {'time': ['676816.3481300999'],\n",
       "                                            'value': ['-2.730003325268626e-05']}),\n",
       "                               defaultdict(list,\n",
       "                                           {'time': ['676821.34905175'],\n",
       "                                            'value': ['-1.645000884309411e-05']}),\n",
       "                               defaultdict(list,\n",
       "                                           {'time': ['676826.3506946'],\n",
       "                                            'value': ['-7.90000194683671e-06']}),\n",
       "                               defaultdict(list,\n",
       "                                           {'time': ['676831.356166'],\n",
       "                                            'value': ['5.00003807246685e-06']}),\n",
       "                               defaultdict(list,\n",
       "                                           {'time': ['676836.3697414999'],\n",
       "                                            'value': ['-2.169999061152339e-05']}),\n",
       "                               defaultdict(list,\n",
       "                                           {'time': ['676841.37608195'],\n",
       "                                            'value': ['-4.025001544505358e-05']})]})]})},\n",
       "  'time_series': array([[50],\n",
       "         [51],\n",
       "         [52],\n",
       "         [53],\n",
       "         [54],\n",
       "         [55]], dtype=int16),\n",
       "  'time_stamps': array([676787.22269189, 676797.25341747, 676807.25341806, 676817.25424066,\n",
       "         676827.25432425, 676837.28584683]),\n",
       "  'clock_times': [676786.3091829501,\n",
       "   676791.3101344,\n",
       "   676796.31036665,\n",
       "   676801.31957435,\n",
       "   676806.3229873001,\n",
       "   676811.3340538,\n",
       "   676816.3481300999,\n",
       "   676821.34905175,\n",
       "   676826.3506946,\n",
       "   676831.356166,\n",
       "   676836.3697414999,\n",
       "   676841.37608195],\n",
       "  'clock_values': [-1.0950025171041489e-05,\n",
       "   -1.7900019884109497e-05,\n",
       "   -1.2850039638578892e-05,\n",
       "   -4.750036168843508e-06,\n",
       "   1.8999562598764896e-06,\n",
       "   1.4899997040629387e-05,\n",
       "   -2.7300033252686262e-05,\n",
       "   -1.645000884309411e-05,\n",
       "   -7.90000194683671e-06,\n",
       "   5.00003807246685e-06,\n",
       "   -2.169999061152339e-05,\n",
       "   -4.025001544505358e-05]},\n",
       " {'info': defaultdict(list,\n",
       "              {'name': ['eeg_quality'],\n",
       "               'type': ['Markers'],\n",
       "               'channel_count': ['16'],\n",
       "               'channel_format': ['int16'],\n",
       "               'source_id': ['id23443'],\n",
       "               'nominal_srate': ['0.000000000000000'],\n",
       "               'version': ['1.100000000000000'],\n",
       "               'created_at': ['676292.6664837000'],\n",
       "               'uid': ['79d2218a-a20c-4459-b8cb-65ba502a23e2'],\n",
       "               'session_id': ['default'],\n",
       "               'hostname': ['ultron'],\n",
       "               'v4address': [None],\n",
       "               'v4data_port': ['16576'],\n",
       "               'v4service_port': ['16576'],\n",
       "               'v6address': [None],\n",
       "               'v6data_port': ['16576'],\n",
       "               'v6service_port': ['16576'],\n",
       "               'desc': [None],\n",
       "               'stream_id': 2,\n",
       "               'effective_srate': 0,\n",
       "               'segments': []}),\n",
       "  'footer': {'info': defaultdict(list,\n",
       "               {'first_timestamp': ['676781.222202'],\n",
       "                'last_timestamp': ['676836.879067'],\n",
       "                'sample_count': ['22'],\n",
       "                'clock_offsets': [defaultdict(list,\n",
       "                             {'offset': [defaultdict(list,\n",
       "                                           {'time': ['676786.31026255'],\n",
       "                                            'value': ['-8.750008419156075e-06']}),\n",
       "                               defaultdict(list,\n",
       "                                           {'time': ['676791.31113275'],\n",
       "                                            'value': ['-9.050010703504086e-06']}),\n",
       "                               defaultdict(list,\n",
       "                                           {'time': ['676796.3114603499'],\n",
       "                                            'value': ['-1.35001027956605e-06']}),\n",
       "                               defaultdict(list,\n",
       "                                           {'time': ['676801.3197500999'],\n",
       "                                            'value': ['1.999997766688466e-05']}),\n",
       "                               defaultdict(list,\n",
       "                                           {'time': ['676806.3229383'],\n",
       "                                            'value': ['-8.700008038431406e-06']}),\n",
       "                               defaultdict(list,\n",
       "                                           {'time': ['676811.3342752499'],\n",
       "                                            'value': ['-2.264993963763118e-05']}),\n",
       "                               defaultdict(list,\n",
       "                                           {'time': ['676816.3481592499'],\n",
       "                                            'value': ['-5.654996493831277e-05']}),\n",
       "                               defaultdict(list,\n",
       "                                           {'time': ['676821.34901555'],\n",
       "                                            'value': ['-2.695003058761358e-05']}),\n",
       "                               defaultdict(list,\n",
       "                                           {'time': ['676826.3506716'],\n",
       "                                            'value': ['-1.469999551773071e-05']}),\n",
       "                               defaultdict(list,\n",
       "                                           {'time': ['676831.3562306'],\n",
       "                                            'value': ['-4.599976819008589e-06']}),\n",
       "                               defaultdict(list,\n",
       "                                           {'time': ['676836.36972745'],\n",
       "                                            'value': ['-3.249966539442539e-06']}),\n",
       "                               defaultdict(list,\n",
       "                                           {'time': ['676841.3761603'],\n",
       "                                            'value': ['-1.71000137925148e-05']})]})]})},\n",
       "  'time_series': array([[1, 1, 1, 1, 1, 1, 2, 1, 1, 3, 1, 1, 1, 1, 1, 3],\n",
       "         [1, 1, 1, 1, 1, 1, 2, 1, 1, 3, 1, 1, 1, 1, 1, 3],\n",
       "         [1, 1, 1, 1, 1, 1, 1, 1, 1, 3, 1, 1, 1, 1, 1, 3],\n",
       "         [1, 1, 1, 1, 1, 1, 1, 1, 1, 3, 1, 1, 1, 1, 1, 3],\n",
       "         [1, 1, 1, 1, 1, 1, 1, 1, 1, 3, 1, 1, 1, 1, 1, 3],\n",
       "         [1, 1, 1, 1, 1, 1, 1, 1, 1, 3, 1, 1, 2, 1, 1, 3],\n",
       "         [1, 1, 1, 1, 1, 1, 1, 1, 1, 3, 1, 1, 2, 1, 1, 3],\n",
       "         [1, 1, 1, 1, 1, 1, 1, 1, 1, 3, 1, 1, 2, 1, 1, 3],\n",
       "         [1, 1, 1, 1, 1, 1, 1, 1, 1, 3, 1, 1, 2, 2, 1, 3],\n",
       "         [1, 1, 1, 1, 1, 1, 1, 1, 1, 3, 1, 1, 2, 1, 1, 3],\n",
       "         [1, 1, 1, 1, 1, 1, 1, 1, 1, 3, 1, 1, 2, 1, 1, 3],\n",
       "         [1, 1, 1, 1, 1, 1, 1, 1, 1, 3, 1, 1, 2, 1, 1, 3],\n",
       "         [1, 1, 1, 1, 1, 1, 1, 1, 1, 3, 1, 1, 2, 1, 1, 3],\n",
       "         [1, 1, 1, 1, 1, 1, 1, 1, 1, 3, 1, 1, 2, 2, 1, 3],\n",
       "         [1, 1, 1, 1, 1, 1, 1, 1, 1, 3, 1, 1, 2, 2, 1, 3],\n",
       "         [1, 1, 1, 1, 1, 1, 1, 1, 1, 3, 1, 1, 2, 2, 1, 3],\n",
       "         [1, 1, 1, 1, 1, 1, 1, 1, 1, 3, 1, 1, 2, 2, 1, 3],\n",
       "         [1, 1, 1, 1, 1, 1, 1, 1, 1, 3, 1, 1, 2, 2, 1, 3],\n",
       "         [1, 1, 1, 1, 1, 1, 1, 1, 1, 3, 1, 1, 2, 2, 1, 3],\n",
       "         [1, 1, 1, 1, 1, 1, 1, 1, 1, 3, 1, 1, 2, 2, 1, 3],\n",
       "         [1, 1, 1, 1, 1, 1, 1, 1, 1, 3, 1, 1, 2, 2, 1, 3],\n",
       "         [1, 1, 1, 1, 1, 1, 1, 1, 1, 3, 1, 1, 2, 2, 1, 3],\n",
       "         [1, 1, 1, 1, 1, 1, 1, 1, 1, 3, 1, 1, 2, 2, 1, 3]], dtype=int16),\n",
       "  'time_stamps': array([676781.22219659, 676783.72264603, 676786.25436945, 676788.78501388,\n",
       "         676791.3173973 , 676793.84772073, 676796.41059315, 676798.94149857,\n",
       "         676801.47333   , 676803.97301543, 676806.53568185, 676809.06691528,\n",
       "         676811.5984977 , 676814.16117412, 676816.63027656, 676819.16104499,\n",
       "         676821.69155941, 676824.22322084, 676826.75399227, 676829.28500069,\n",
       "         676831.81721212, 676834.34804254, 676836.87904897]),\n",
       "  'clock_times': [676786.31026255,\n",
       "   676791.31113275,\n",
       "   676796.3114603499,\n",
       "   676801.3197500999,\n",
       "   676806.3229383,\n",
       "   676811.3342752499,\n",
       "   676816.3481592499,\n",
       "   676821.34901555,\n",
       "   676826.3506716,\n",
       "   676831.3562306,\n",
       "   676836.36972745,\n",
       "   676841.3761603],\n",
       "  'clock_values': [-8.750008419156075e-06,\n",
       "   -9.050010703504086e-06,\n",
       "   -1.3500102795660496e-06,\n",
       "   1.999997766688466e-05,\n",
       "   -8.700008038431406e-06,\n",
       "   -2.2649939637631178e-05,\n",
       "   -5.654996493831277e-05,\n",
       "   -2.6950030587613583e-05,\n",
       "   -1.4699995517730713e-05,\n",
       "   -4.599976819008589e-06,\n",
       "   -3.2499665394425392e-06,\n",
       "   -1.71000137925148e-05]},\n",
       " {'info': defaultdict(list,\n",
       "              {'name': ['eeg_eeg'],\n",
       "               'type': ['EEG'],\n",
       "               'channel_count': ['17'],\n",
       "               'channel_format': ['float32'],\n",
       "               'source_id': ['eeguid131498'],\n",
       "               'nominal_srate': ['256.0000000000000'],\n",
       "               'version': ['1.100000000000000'],\n",
       "               'created_at': ['676282.6956322000'],\n",
       "               'uid': ['84b512d5-77c2-48de-941d-dd6e76b1d02f'],\n",
       "               'session_id': ['default'],\n",
       "               'hostname': ['ultron'],\n",
       "               'v4address': [None],\n",
       "               'v4data_port': ['16573'],\n",
       "               'v4service_port': ['16573'],\n",
       "               'v6address': [None],\n",
       "               'v6data_port': ['16573'],\n",
       "               'v6service_port': ['16573'],\n",
       "               'desc': [defaultdict(list,\n",
       "                            {'acquisition': [defaultdict(list,\n",
       "                                          {'manufacturer': ['Bitbrain']})],\n",
       "                             'channels': [defaultdict(list,\n",
       "                                          {'channel': [defaultdict(list,\n",
       "                                                        {'unit': ['uV'],\n",
       "                                                         'type': ['eeg'],\n",
       "                                                         'label': ['Fpz']}),\n",
       "                                            defaultdict(list,\n",
       "                                                        {'unit': ['uV'],\n",
       "                                                         'type': ['eeg'],\n",
       "                                                         'label': ['F7']}),\n",
       "                                            defaultdict(list,\n",
       "                                                        {'unit': ['uV'],\n",
       "                                                         'type': ['eeg'],\n",
       "                                                         'label': ['F3']}),\n",
       "                                            defaultdict(list,\n",
       "                                                        {'unit': ['uV'],\n",
       "                                                         'type': ['eeg'],\n",
       "                                                         'label': ['Fz']}),\n",
       "                                            defaultdict(list,\n",
       "                                                        {'unit': ['uV'],\n",
       "                                                         'type': ['eeg'],\n",
       "                                                         'label': ['F4']}),\n",
       "                                            defaultdict(list,\n",
       "                                                        {'unit': ['uV'],\n",
       "                                                         'type': ['eeg'],\n",
       "                                                         'label': ['F8']}),\n",
       "                                            defaultdict(list,\n",
       "                                                        {'unit': ['uV'],\n",
       "                                                         'type': ['eeg'],\n",
       "                                                         'label': ['C3']}),\n",
       "                                            defaultdict(list,\n",
       "                                                        {'unit': ['uV'],\n",
       "                                                         'type': ['eeg'],\n",
       "                                                         'label': ['Cz']}),\n",
       "                                            defaultdict(list,\n",
       "                                                        {'unit': ['uV'],\n",
       "                                                         'type': ['eeg'],\n",
       "                                                         'label': ['C4']}),\n",
       "                                            defaultdict(list,\n",
       "                                                        {'unit': ['uV'],\n",
       "                                                         'type': ['eeg'],\n",
       "                                                         'label': ['P7']}),\n",
       "                                            defaultdict(list,\n",
       "                                                        {'unit': ['uV'],\n",
       "                                                         'type': ['eeg'],\n",
       "                                                         'label': ['P3']}),\n",
       "                                            defaultdict(list,\n",
       "                                                        {'unit': ['uV'],\n",
       "                                                         'type': ['eeg'],\n",
       "                                                         'label': ['Pz']}),\n",
       "                                            defaultdict(list,\n",
       "                                                        {'unit': ['uV'],\n",
       "                                                         'type': ['eeg'],\n",
       "                                                         'label': ['P4']}),\n",
       "                                            defaultdict(list,\n",
       "                                                        {'unit': ['uV'],\n",
       "                                                         'type': ['eeg'],\n",
       "                                                         'label': ['P8']}),\n",
       "                                            defaultdict(list,\n",
       "                                                        {'unit': ['uV'],\n",
       "                                                         'type': ['eeg'],\n",
       "                                                         'label': ['O1']}),\n",
       "                                            defaultdict(list,\n",
       "                                                        {'unit': ['uV'],\n",
       "                                                         'type': ['eeg'],\n",
       "                                                         'label': ['O2']}),\n",
       "                                            defaultdict(list,\n",
       "                                                        {'unit': [None],\n",
       "                                                         'type': ['sequence number'],\n",
       "                                                         'label': ['17']})]})]})],\n",
       "               'stream_id': 3,\n",
       "               'effective_srate': np.float64(255.99022074183972),\n",
       "               'segments': [(np.int64(0), np.int64(15111))]}),\n",
       "  'footer': {'info': defaultdict(list,\n",
       "               {'first_timestamp': ['676780.65594825'],\n",
       "                'last_timestamp': ['676839.68928625'],\n",
       "                'sample_count': ['15111'],\n",
       "                'clock_offsets': [defaultdict(list,\n",
       "                             {'offset': [defaultdict(list,\n",
       "                                           {'time': ['676786.31031485'],\n",
       "                                            'value': ['-2.749962732195854e-06']}),\n",
       "                               defaultdict(list,\n",
       "                                           {'time': ['676791.3111797'],\n",
       "                                            'value': ['-1.00000761449337e-06']}),\n",
       "                               defaultdict(list,\n",
       "                                           {'time': ['676796.3114328999'],\n",
       "                                            'value': ['2.620002487674356e-05']}),\n",
       "                               defaultdict(list,\n",
       "                                           {'time': ['676801.3195286002'],\n",
       "                                            'value': ['-3.600085619837046e-06']}),\n",
       "                               defaultdict(list,\n",
       "                                           {'time': ['676806.3229799501'],\n",
       "                                            'value': ['-1.495005562901497e-05']}),\n",
       "                               defaultdict(list,\n",
       "                                           {'time': ['676811.3341347501'],\n",
       "                                            'value': ['-1.474999589845538e-05']}),\n",
       "                               defaultdict(list,\n",
       "                                           {'time': ['676816.3481741'],\n",
       "                                            'value': ['-5.23999915458262e-05']}),\n",
       "                               defaultdict(list,\n",
       "                                           {'time': ['676821.3490097499'],\n",
       "                                            'value': ['-2.115004463121295e-05']}),\n",
       "                               defaultdict(list,\n",
       "                                           {'time': ['676826.3506696501'],\n",
       "                                            'value': ['-1.825002254918218e-05']}),\n",
       "                               defaultdict(list,\n",
       "                                           {'time': ['676831.3562511499'],\n",
       "                                            'value': ['-3.115000436082482e-05']}),\n",
       "                               defaultdict(list,\n",
       "                                           {'time': ['676836.36974'],\n",
       "                                            'value': ['-1.43999932333827e-05']}),\n",
       "                               defaultdict(list,\n",
       "                                           {'time': ['676841.3761771'],\n",
       "                                            'value': ['-3.390002530068159e-05']})]})]})},\n",
       "  'time_series': array([[51896.746, 73238.05 , 42249.1  , ..., 64885.9  , 68903.13 ,\n",
       "          15936.   ],\n",
       "         [51872.195, 73203.516, 42226.047, ..., 64860.59 , 68486.625,\n",
       "          15936.   ],\n",
       "         [51877.73 , 73220.695, 42235.574, ..., 64869.766, 68964.945,\n",
       "          15936.   ],\n",
       "         ...,\n",
       "         [51387.797, 73503.805, 41646.473, ..., 64506.85 , 68185.16 ,\n",
       "          17824.   ],\n",
       "         [51410.32 , 73519.15 , 41673.414, ..., 64529.906, 68693.07 ,\n",
       "          17824.   ],\n",
       "         [51397.703, 73516.25 , 41654.832, ..., 64484.33 , 68457.42 ,\n",
       "          17824.   ]], shape=(15112, 17), dtype=float32),\n",
       "  'time_stamps': array([676780.6575776 , 676780.661484  , 676780.6653904 , ...,\n",
       "         676839.67936364, 676839.68327004, 676839.68717644], shape=(15112,)),\n",
       "  'clock_times': [676786.31031485,\n",
       "   676791.3111797,\n",
       "   676796.3114328999,\n",
       "   676801.3195286002,\n",
       "   676806.3229799501,\n",
       "   676811.3341347501,\n",
       "   676816.3481741,\n",
       "   676821.34900975,\n",
       "   676826.3506696501,\n",
       "   676831.3562511499,\n",
       "   676836.36974,\n",
       "   676841.3761771],\n",
       "  'clock_values': [-2.749962732195854e-06,\n",
       "   -1.00000761449337e-06,\n",
       "   2.6200024876743555e-05,\n",
       "   -3.6000856198370457e-06,\n",
       "   -1.4950055629014969e-05,\n",
       "   -1.4749995898455381e-05,\n",
       "   -5.23999915458262e-05,\n",
       "   -2.115004463121295e-05,\n",
       "   -1.8250022549182177e-05,\n",
       "   -3.115000436082482e-05,\n",
       "   -1.4399993233382702e-05,\n",
       "   -3.390002530068159e-05]}]"
      ]
     },
     "execution_count": 239,
     "metadata": {},
     "output_type": "execute_result"
    }
   ],
   "source": [
    "streams"
   ]
  },
  {
   "cell_type": "code",
   "execution_count": 5,
   "id": "8e869b5a",
   "metadata": {},
   "outputs": [
    {
     "data": {
      "text/plain": [
       "list"
      ]
     },
     "execution_count": 5,
     "metadata": {},
     "output_type": "execute_result"
    }
   ],
   "source": [
    "type(streams)"
   ]
  },
  {
   "cell_type": "code",
   "execution_count": 77,
   "id": "c264db8f",
   "metadata": {},
   "outputs": [
    {
     "data": {
      "text/plain": [
       "5"
      ]
     },
     "execution_count": 77,
     "metadata": {},
     "output_type": "execute_result"
    }
   ],
   "source": [
    "len(streams)"
   ]
  },
  {
   "cell_type": "code",
   "execution_count": 7,
   "id": "a40103f8",
   "metadata": {},
   "outputs": [
    {
     "data": {
      "text/plain": [
       "{'info': defaultdict(list,\n",
       "             {'name': ['eeg_quality'],\n",
       "              'type': ['Markers'],\n",
       "              'channel_count': ['16'],\n",
       "              'channel_format': ['int16'],\n",
       "              'source_id': ['id23443'],\n",
       "              'nominal_srate': ['0.000000000000000'],\n",
       "              'version': ['1.100000000000000'],\n",
       "              'created_at': ['584413.3189219000'],\n",
       "              'uid': ['ce0b9930-ede3-4342-aeaa-6ccd72a45553'],\n",
       "              'session_id': ['default'],\n",
       "              'hostname': ['ultron'],\n",
       "              'v4address': [None],\n",
       "              'v4data_port': ['16576'],\n",
       "              'v4service_port': ['16576'],\n",
       "              'v6address': [None],\n",
       "              'v6data_port': ['16576'],\n",
       "              'v6service_port': ['16576'],\n",
       "              'desc': [None],\n",
       "              'stream_id': 5,\n",
       "              'effective_srate': 0,\n",
       "              'segments': []}),\n",
       " 'footer': {'info': defaultdict(list,\n",
       "              {'first_timestamp': ['586557.365184'],\n",
       "               'last_timestamp': ['586605.458553'],\n",
       "               'sample_count': ['19'],\n",
       "               'clock_offsets': [defaultdict(list,\n",
       "                            {'offset': [defaultdict(list,\n",
       "                                          {'time': ['586560.9029127'],\n",
       "                                           'value': ['-3.280001692473888e-05']}),\n",
       "                              defaultdict(list,\n",
       "                                          {'time': ['586565.90357055'],\n",
       "                                           'value': ['-5.149981006979942e-06']}),\n",
       "                              defaultdict(list,\n",
       "                                          {'time': ['586570.90453895'],\n",
       "                                           'value': ['-4.449975676834583e-06']}),\n",
       "                              defaultdict(list,\n",
       "                                          {'time': ['586575.9049013001'],\n",
       "                                           'value': ['-2.109998604282737e-05']}),\n",
       "                              defaultdict(list,\n",
       "                                          {'time': ['586580.90576275'],\n",
       "                                           'value': ['2.150016371160746e-06']}),\n",
       "                              defaultdict(list,\n",
       "                                          {'time': ['586585.9064597001'],\n",
       "                                           'value': ['-1.020001946017146e-05']}),\n",
       "                              defaultdict(list,\n",
       "                                          {'time': ['586590.9070467501'],\n",
       "                                           'value': ['2.074998337775469e-05']}),\n",
       "                              defaultdict(list,\n",
       "                                          {'time': ['586595.90721685'],\n",
       "                                           'value': ['1.585000427439809e-05']}),\n",
       "                              defaultdict(list,\n",
       "                                          {'time': ['586600.9078863'],\n",
       "                                           'value': ['-1.579994568601251e-05']}),\n",
       "                              defaultdict(list,\n",
       "                                          {'time': ['586605.9080493001'],\n",
       "                                           'value': ['-1.440005144104362e-05']})]})]})},\n",
       " 'time_series': array([[1, 1, 1, 1, 1, 1, 1, 1, 1, 1, 1, 3, 1, 2, 1, 3],\n",
       "        [1, 1, 1, 1, 1, 1, 1, 1, 1, 1, 1, 3, 1, 2, 1, 3],\n",
       "        [1, 1, 1, 1, 1, 1, 1, 1, 1, 1, 1, 3, 1, 2, 1, 3],\n",
       "        [1, 1, 1, 1, 1, 1, 1, 1, 1, 1, 1, 3, 1, 2, 1, 3],\n",
       "        [1, 1, 1, 1, 1, 1, 1, 1, 1, 1, 1, 3, 1, 2, 1, 3],\n",
       "        [1, 1, 1, 1, 1, 1, 1, 1, 1, 1, 1, 3, 1, 2, 2, 3],\n",
       "        [1, 1, 1, 1, 1, 1, 1, 1, 1, 1, 1, 3, 1, 2, 2, 3],\n",
       "        [1, 1, 1, 1, 1, 1, 1, 1, 1, 1, 1, 3, 1, 2, 2, 3],\n",
       "        [1, 1, 1, 1, 1, 1, 1, 1, 1, 1, 1, 3, 1, 2, 2, 3],\n",
       "        [1, 1, 1, 1, 1, 1, 1, 1, 1, 1, 1, 3, 1, 2, 2, 3],\n",
       "        [1, 1, 1, 1, 1, 1, 1, 1, 1, 1, 1, 3, 1, 2, 2, 3],\n",
       "        [1, 1, 1, 1, 1, 1, 1, 1, 1, 1, 1, 3, 1, 2, 2, 3],\n",
       "        [1, 1, 1, 1, 1, 1, 1, 1, 1, 1, 1, 3, 1, 2, 2, 3],\n",
       "        [1, 1, 1, 1, 1, 1, 1, 1, 1, 1, 1, 3, 1, 2, 2, 3],\n",
       "        [1, 1, 1, 1, 1, 1, 1, 1, 1, 1, 1, 3, 1, 2, 2, 3],\n",
       "        [1, 1, 1, 1, 1, 1, 1, 1, 1, 1, 1, 3, 1, 2, 2, 3],\n",
       "        [1, 1, 1, 1, 1, 1, 1, 1, 1, 1, 1, 3, 1, 2, 2, 3],\n",
       "        [1, 1, 1, 1, 1, 1, 1, 1, 1, 1, 1, 3, 1, 2, 2, 3],\n",
       "        [1, 1, 1, 1, 1, 1, 1, 1, 1, 1, 1, 3, 1, 2, 2, 3],\n",
       "        [1, 1, 1, 1, 1, 1, 1, 1, 1, 1, 1, 3, 1, 2, 2, 3]], dtype=int16),\n",
       " 'time_stamps': array([586557.36516784, 586559.89654977, 586562.42710971, 586564.99061666,\n",
       "        586567.48957159, 586570.05235254, 586572.55237146, 586575.0841974 ,\n",
       "        586577.64634335, 586580.14580428, 586582.70866023, 586585.20892215,\n",
       "        586587.74052409, 586590.27091603, 586592.80238097, 586595.3324409 ,\n",
       "        586597.86426384, 586600.42725579, 586602.92680572, 586605.45855466]),\n",
       " 'clock_times': [586560.9029127,\n",
       "  586565.90357055,\n",
       "  586570.90453895,\n",
       "  586575.9049013001,\n",
       "  586580.90576275,\n",
       "  586585.9064597001,\n",
       "  586590.9070467501,\n",
       "  586595.90721685,\n",
       "  586600.9078863,\n",
       "  586605.9080493001],\n",
       " 'clock_values': [-3.2800016924738884e-05,\n",
       "  -5.149981006979942e-06,\n",
       "  -4.449975676834583e-06,\n",
       "  -2.1099986042827368e-05,\n",
       "  2.1500163711607456e-06,\n",
       "  -1.0200019460171461e-05,\n",
       "  2.0749983377754688e-05,\n",
       "  1.585000427439809e-05,\n",
       "  -1.5799945686012506e-05,\n",
       "  -1.4400051441043615e-05]}"
      ]
     },
     "execution_count": 7,
     "metadata": {},
     "output_type": "execute_result"
    }
   ],
   "source": [
    "streams[0]"
   ]
  },
  {
   "cell_type": "markdown",
   "id": "08f89684",
   "metadata": {},
   "source": [
    "`header` no me aporta información así que no lo cargaré por defecto "
   ]
  },
  {
   "cell_type": "code",
   "execution_count": null,
   "id": "c55dde78",
   "metadata": {},
   "outputs": [
    {
     "data": {
      "text/plain": [
       "dict"
      ]
     },
     "execution_count": 6,
     "metadata": {},
     "output_type": "execute_result"
    }
   ],
   "source": [
    "type(header)"
   ]
  },
  {
   "cell_type": "code",
   "execution_count": null,
   "id": "6560cc38",
   "metadata": {},
   "outputs": [
    {
     "data": {
      "text/plain": [
       "{'info': defaultdict(list,\n",
       "             {'version': ['1.0'], 'datetime': ['2025-04-22T12:11:40+0200']})}"
      ]
     },
     "execution_count": 8,
     "metadata": {},
     "output_type": "execute_result"
    }
   ],
   "source": [
    "header"
   ]
  },
  {
   "cell_type": "markdown",
   "id": "88fb4f09",
   "metadata": {},
   "source": [
    "Veamos primero los streams disponibles en mi archivo"
   ]
  },
  {
   "cell_type": "code",
   "execution_count": 240,
   "id": "c2f1a328",
   "metadata": {},
   "outputs": [
    {
     "name": "stdout",
     "output_type": "stream",
     "text": [
      "Sync\n",
      "eeg_quality\n",
      "eeg_eeg\n"
     ]
    }
   ],
   "source": [
    "for stream in streams:\n",
    "    print(stream['info']['name'][0])"
   ]
  },
  {
   "cell_type": "code",
   "execution_count": 23,
   "id": "cfd2f4a6",
   "metadata": {},
   "outputs": [
    {
     "name": "stdout",
     "output_type": "stream",
     "text": [
      "first_timestamp\n",
      "last_timestamp\n",
      "sample_count\n",
      "clock_offsets\n"
     ]
    }
   ],
   "source": [
    "for e in streams[0]['footer']['info']:\n",
    "    print(e)"
   ]
  },
  {
   "cell_type": "markdown",
   "id": "4f15ec57",
   "metadata": {},
   "source": [
    "### 1.1. Streams: `eeg_eeg`"
   ]
  },
  {
   "cell_type": "code",
   "execution_count": null,
   "id": "fecaa8f3",
   "metadata": {},
   "outputs": [
    {
     "name": "stdout",
     "output_type": "stream",
     "text": [
      "EEG stream number: 4\n"
     ]
    }
   ],
   "source": [
    "eeg_stream_number = find_stream_number(streams, 'eeg_eeg')\n",
    "print(f\"EEG stream number: {eeg_stream_number}\")\n",
    "eeg_stream = streams[eeg_stream_number]"
   ]
  },
  {
   "cell_type": "code",
   "execution_count": null,
   "id": "a40a4f39",
   "metadata": {},
   "outputs": [
    {
     "name": "stdout",
     "output_type": "stream",
     "text": [
      "info\n",
      "footer\n",
      "time_series\n",
      "time_stamps\n",
      "clock_times\n",
      "clock_values\n"
     ]
    }
   ],
   "source": [
    "for key in eeg_stream.keys():\n",
    "    print(key)"
   ]
  },
  {
   "cell_type": "markdown",
   "id": "c55e29e9",
   "metadata": {},
   "source": [
    "#### 1.1.1 Streams: EGG - `info`"
   ]
  },
  {
   "cell_type": "code",
   "execution_count": 16,
   "id": "d1a8367f",
   "metadata": {},
   "outputs": [
    {
     "data": {
      "text/plain": [
       "{'info': defaultdict(list,\n",
       "             {'name': ['eeg_eeg'],\n",
       "              'type': ['EEG'],\n",
       "              'channel_count': ['17'],\n",
       "              'channel_format': ['float32'],\n",
       "              'source_id': ['eeguid104266'],\n",
       "              'nominal_srate': ['256.0000000000000'],\n",
       "              'version': ['1.100000000000000'],\n",
       "              'created_at': ['31450.44617520000'],\n",
       "              'uid': ['2d1a05c2-7e06-4e2e-90da-a016ba5a0816'],\n",
       "              'session_id': ['default'],\n",
       "              'hostname': ['ultron'],\n",
       "              'v4address': [None],\n",
       "              'v4data_port': ['16573'],\n",
       "              'v4service_port': ['16573'],\n",
       "              'v6address': [None],\n",
       "              'v6data_port': ['16573'],\n",
       "              'v6service_port': ['16573'],\n",
       "              'desc': [defaultdict(list,\n",
       "                           {'acquisition': [defaultdict(list,\n",
       "                                         {'manufacturer': ['Bitbrain']})],\n",
       "                            'channels': [defaultdict(list,\n",
       "                                         {'channel': [defaultdict(list,\n",
       "                                                       {'unit': ['uV'],\n",
       "                                                        'type': ['eeg'],\n",
       "                                                        'label': ['Fpz']}),\n",
       "                                           defaultdict(list,\n",
       "                                                       {'unit': ['uV'],\n",
       "                                                        'type': ['eeg'],\n",
       "                                                        'label': ['F7']}),\n",
       "                                           defaultdict(list,\n",
       "                                                       {'unit': ['uV'],\n",
       "                                                        'type': ['eeg'],\n",
       "                                                        'label': ['F3']}),\n",
       "                                           defaultdict(list,\n",
       "                                                       {'unit': ['uV'],\n",
       "                                                        'type': ['eeg'],\n",
       "                                                        'label': ['Fz']}),\n",
       "                                           defaultdict(list,\n",
       "                                                       {'unit': ['uV'],\n",
       "                                                        'type': ['eeg'],\n",
       "                                                        'label': ['F4']}),\n",
       "                                           defaultdict(list,\n",
       "                                                       {'unit': ['uV'],\n",
       "                                                        'type': ['eeg'],\n",
       "                                                        'label': ['F8']}),\n",
       "                                           defaultdict(list,\n",
       "                                                       {'unit': ['uV'],\n",
       "                                                        'type': ['eeg'],\n",
       "                                                        'label': ['C3']}),\n",
       "                                           defaultdict(list,\n",
       "                                                       {'unit': ['uV'],\n",
       "                                                        'type': ['eeg'],\n",
       "                                                        'label': ['Cz']}),\n",
       "                                           defaultdict(list,\n",
       "                                                       {'unit': ['uV'],\n",
       "                                                        'type': ['eeg'],\n",
       "                                                        'label': ['C4']}),\n",
       "                                           defaultdict(list,\n",
       "                                                       {'unit': ['uV'],\n",
       "                                                        'type': ['eeg'],\n",
       "                                                        'label': ['P7']}),\n",
       "                                           defaultdict(list,\n",
       "                                                       {'unit': ['uV'],\n",
       "                                                        'type': ['eeg'],\n",
       "                                                        'label': ['P3']}),\n",
       "                                           defaultdict(list,\n",
       "                                                       {'unit': ['uV'],\n",
       "                                                        'type': ['eeg'],\n",
       "                                                        'label': ['Pz']}),\n",
       "                                           defaultdict(list,\n",
       "                                                       {'unit': ['uV'],\n",
       "                                                        'type': ['eeg'],\n",
       "                                                        'label': ['P4']}),\n",
       "                                           defaultdict(list,\n",
       "                                                       {'unit': ['uV'],\n",
       "                                                        'type': ['eeg'],\n",
       "                                                        'label': ['P8']}),\n",
       "                                           defaultdict(list,\n",
       "                                                       {'unit': ['uV'],\n",
       "                                                        'type': ['eeg'],\n",
       "                                                        'label': ['O1']}),\n",
       "                                           defaultdict(list,\n",
       "                                                       {'unit': ['uV'],\n",
       "                                                        'type': ['eeg'],\n",
       "                                                        'label': ['O2']}),\n",
       "                                           defaultdict(list,\n",
       "                                                       {'unit': [None],\n",
       "                                                        'type': ['sequence number'],\n",
       "                                                        'label': ['17']})]})]})],\n",
       "              'stream_id': 3,\n",
       "              'effective_srate': 255.9644844462347,\n",
       "              'segments': [(0, 10374)]}),\n",
       " 'footer': {'info': defaultdict(list,\n",
       "              {'first_timestamp': ['32307.62533775'],\n",
       "               'last_timestamp': ['32348.15263725'],\n",
       "               'sample_count': ['10374'],\n",
       "               'clock_offsets': [defaultdict(list,\n",
       "                            {'offset': [defaultdict(list,\n",
       "                                          {'time': ['32313.2795516'],\n",
       "                                           'value': ['5.600000804406591e-06']}),\n",
       "                              defaultdict(list,\n",
       "                                          {'time': ['32318.2798563'],\n",
       "                                           'value': ['4.899999112240039e-06']}),\n",
       "                              defaultdict(list,\n",
       "                                          {'time': ['32323.2802797'],\n",
       "                                           'value': ['-3.500001184875146e-06']}),\n",
       "                              defaultdict(list,\n",
       "                                          {'time': ['32328.2810176'],\n",
       "                                           'value': ['2.029999996011611e-05']}),\n",
       "                              defaultdict(list,\n",
       "                                          {'time': ['32333.28116285'],\n",
       "                                           'value': ['-7.649998224223964e-06']}),\n",
       "                              defaultdict(list,\n",
       "                                          {'time': ['32338.28220605'],\n",
       "                                           'value': ['3.15000033879187e-06']}),\n",
       "                              defaultdict(list,\n",
       "                                          {'time': ['32343.28247625'],\n",
       "                                           'value': ['-3.750001269509085e-06']}),\n",
       "                              defaultdict(list,\n",
       "                                          {'time': ['32348.28276735'],\n",
       "                                           'value': ['-4.749999789055437e-06']})]})]})},\n",
       " 'time_series': array([[30774.94  , 72253.05  ,  4247.4873, ...,  2192.2295, -3362.7986,\n",
       "         27430.    ],\n",
       "        [30801.83  , 72178.305 ,  4286.5215, ...,  2186.1458, -3358.8806,\n",
       "         27430.    ],\n",
       "        [30777.459 , 72128.05  ,  4233.4824, ...,  2225.4353, -3360.584 ,\n",
       "         27430.    ],\n",
       "        ...,\n",
       "        [31491.18  , 72769.58  ,  4217.993 , ...,  2191.8403, -3604.741 ,\n",
       "         28726.    ],\n",
       "        [31485.559 , 72766.99  ,  4221.607 , ...,  2191.3901, -3593.1694,\n",
       "         28726.    ],\n",
       "        [31482.15  , 72771.336 ,  4225.525 , ...,  2172.9194, -3582.766 ,\n",
       "         28726.    ]], dtype=float32),\n",
       " 'time_stamps': array([32307.62446012, 32307.62836692, 32307.63227371, ...,\n",
       "        32348.14570728, 32348.14961408, 32348.15352087]),\n",
       " 'clock_times': [32313.279551599997,\n",
       "  32318.279856300003,\n",
       "  32323.2802797,\n",
       "  32328.2810176,\n",
       "  32333.28116285,\n",
       "  32338.282206049997,\n",
       "  32343.282476250002,\n",
       "  32348.28276735],\n",
       " 'clock_values': [5.600000804406591e-06,\n",
       "  4.899999112240039e-06,\n",
       "  -3.5000011848751456e-06,\n",
       "  2.029999996011611e-05,\n",
       "  -7.649998224223964e-06,\n",
       "  3.1500003387918696e-06,\n",
       "  -3.7500012695090845e-06,\n",
       "  -4.749999789055437e-06]}"
      ]
     },
     "execution_count": 16,
     "metadata": {},
     "output_type": "execute_result"
    }
   ],
   "source": [
    "streams[4]"
   ]
  },
  {
   "cell_type": "code",
   "execution_count": 89,
   "id": "8ff9660a",
   "metadata": {},
   "outputs": [
    {
     "name": "stdout",
     "output_type": "stream",
     "text": [
      "name : eeg_eeg\n",
      "type : EEG\n",
      "channel_count : 17\n",
      "channel_format : float32\n",
      "source_id : eeguid126424\n",
      "nominal_srate : 256.0000000000000\n",
      "version : 1.100000000000000\n",
      "created_at : 584403.3681930000\n",
      "uid : 365d63b6-d814-42d4-88b3-f5bfe917ab16\n",
      "session_id : default\n",
      "hostname : ultron\n",
      "v4address : None\n",
      "v4data_port : 16573\n",
      "v4service_port : 16573\n",
      "v6address : None\n",
      "v6data_port : 16573\n",
      "v6service_port : 16573\n",
      "desc : defaultdict(<class 'list'>, {'acquisition': [defaultdict(<class 'list'>, {'manufacturer': ['Bitbrain']})], 'channels': [defaultdict(<class 'list'>, {'channel': [defaultdict(<class 'list'>, {'unit': ['uV'], 'type': ['eeg'], 'label': ['Fpz']}), defaultdict(<class 'list'>, {'unit': ['uV'], 'type': ['eeg'], 'label': ['F7']}), defaultdict(<class 'list'>, {'unit': ['uV'], 'type': ['eeg'], 'label': ['F3']}), defaultdict(<class 'list'>, {'unit': ['uV'], 'type': ['eeg'], 'label': ['Fz']}), defaultdict(<class 'list'>, {'unit': ['uV'], 'type': ['eeg'], 'label': ['F4']}), defaultdict(<class 'list'>, {'unit': ['uV'], 'type': ['eeg'], 'label': ['F8']}), defaultdict(<class 'list'>, {'unit': ['uV'], 'type': ['eeg'], 'label': ['C3']}), defaultdict(<class 'list'>, {'unit': ['uV'], 'type': ['eeg'], 'label': ['Cz']}), defaultdict(<class 'list'>, {'unit': ['uV'], 'type': ['eeg'], 'label': ['C4']}), defaultdict(<class 'list'>, {'unit': ['uV'], 'type': ['eeg'], 'label': ['P7']}), defaultdict(<class 'list'>, {'unit': ['uV'], 'type': ['eeg'], 'label': ['P3']}), defaultdict(<class 'list'>, {'unit': ['uV'], 'type': ['eeg'], 'label': ['Pz']}), defaultdict(<class 'list'>, {'unit': ['uV'], 'type': ['eeg'], 'label': ['P4']}), defaultdict(<class 'list'>, {'unit': ['uV'], 'type': ['eeg'], 'label': ['P8']}), defaultdict(<class 'list'>, {'unit': ['uV'], 'type': ['eeg'], 'label': ['O1']}), defaultdict(<class 'list'>, {'unit': ['uV'], 'type': ['eeg'], 'label': ['O2']}), defaultdict(<class 'list'>, {'unit': [None], 'type': ['sequence number'], 'label': ['17']})], 0: [], 'label': []})], 0: []})\n",
      "stream_id : 3\n",
      "effective_srate : 255.99519079408594\n",
      "segments : (np.int64(0), np.int64(10255))\n"
     ]
    }
   ],
   "source": [
    "for key, value in eeg_stream['info'].items():\n",
    "    print(key,':',value[0]) if type(value) == list else print(key,':',value)"
   ]
  },
  {
   "cell_type": "markdown",
   "id": "2aa5f8db",
   "metadata": {},
   "source": [
    "Los que realmente nos interesan son:\n",
    "- name\n",
    "- type\n",
    "- channel_count\n",
    "- channel_format\n",
    "- nominal_srate\n",
    "- stream_id?"
   ]
  },
  {
   "cell_type": "markdown",
   "id": "831e9137",
   "metadata": {},
   "source": [
    "**Canales EEG**\n",
    "\n",
    "De los 17 canales, 16 son electrodos EEG que miden actividad cerebral en microvoltios (μV), y el canal 17 parece ser un contador de secuencia:\n",
    "\n",
    "| Índice | Electrodo | Tipo | Unidad | Ubicación |\n",
    "|--------|-----------|------|--------|-----------|\n",
    "| 0 | Fpz | eeg | μV | Frontal polar, línea media |\n",
    "| 1 | F7 | eeg | μV | Frontal izquierdo |\n",
    "| 2 | F3 | eeg | μV | Frontal izquierdo (central) |\n",
    "| 3 | Fz | eeg | μV | Frontal, línea media |\n",
    "| 4 | F4 | eeg | μV | Frontal derecho (central) |\n",
    "| 5 | F8 | eeg | μV | Frontal derecho |\n",
    "| 6 | C3 | eeg | μV | Central izquierdo |\n",
    "| 7 | Cz | eeg | μV | Central, línea media |\n",
    "| 8 | C4 | eeg | μV | Central derecho |\n",
    "| 9 | P7 | eeg | μV | Parietal izquierdo |\n",
    "| 10 | P3 | eeg | μV | Parietal izquierdo (central) |\n",
    "| 11 | Pz | eeg | μV | Parietal, línea media |\n",
    "| 12 | P4 | eeg | μV | Parietal derecho (central) |\n",
    "| 13 | P8 | eeg | μV | Parietal derecho |\n",
    "| 14 | O1 | eeg | μV | Occipital izquierdo |\n",
    "| 15 | O2 | eeg | μV | Occipital derecho |\n",
    "| 16 | - | sequence number | - | Contador de secuencia |"
   ]
  },
  {
   "cell_type": "code",
   "execution_count": 90,
   "id": "da31cb10",
   "metadata": {},
   "outputs": [
    {
     "name": "stdout",
     "output_type": "stream",
     "text": [
      "[defaultdict(<class 'list'>, {'unit': ['uV'], 'type': ['eeg'], 'label': ['Fpz']}), defaultdict(<class 'list'>, {'unit': ['uV'], 'type': ['eeg'], 'label': ['F7']}), defaultdict(<class 'list'>, {'unit': ['uV'], 'type': ['eeg'], 'label': ['F3']}), defaultdict(<class 'list'>, {'unit': ['uV'], 'type': ['eeg'], 'label': ['Fz']}), defaultdict(<class 'list'>, {'unit': ['uV'], 'type': ['eeg'], 'label': ['F4']}), defaultdict(<class 'list'>, {'unit': ['uV'], 'type': ['eeg'], 'label': ['F8']}), defaultdict(<class 'list'>, {'unit': ['uV'], 'type': ['eeg'], 'label': ['C3']}), defaultdict(<class 'list'>, {'unit': ['uV'], 'type': ['eeg'], 'label': ['Cz']}), defaultdict(<class 'list'>, {'unit': ['uV'], 'type': ['eeg'], 'label': ['C4']}), defaultdict(<class 'list'>, {'unit': ['uV'], 'type': ['eeg'], 'label': ['P7']}), defaultdict(<class 'list'>, {'unit': ['uV'], 'type': ['eeg'], 'label': ['P3']}), defaultdict(<class 'list'>, {'unit': ['uV'], 'type': ['eeg'], 'label': ['Pz']}), defaultdict(<class 'list'>, {'unit': ['uV'], 'type': ['eeg'], 'label': ['P4']}), defaultdict(<class 'list'>, {'unit': ['uV'], 'type': ['eeg'], 'label': ['P8']}), defaultdict(<class 'list'>, {'unit': ['uV'], 'type': ['eeg'], 'label': ['O1']}), defaultdict(<class 'list'>, {'unit': ['uV'], 'type': ['eeg'], 'label': ['O2']}), defaultdict(<class 'list'>, {'unit': [None], 'type': ['sequence number'], 'label': ['17']})]\n"
     ]
    }
   ],
   "source": [
    "print(eeg_stream['info']['desc'][0]['channels'][0]['channel'])"
   ]
  },
  {
   "cell_type": "code",
   "execution_count": 241,
   "id": "9cdb7d43",
   "metadata": {},
   "outputs": [
    {
     "name": "stdout",
     "output_type": "stream",
     "text": [
      "{0: 'Fpz', 1: 'F7', 2: 'F3', 3: 'Fz', 4: 'F4', 5: 'F8', 6: 'C3', 7: 'Cz', 8: 'C4', 9: 'P7', 10: 'P3', 11: 'Pz', 12: 'P4', 13: 'P8', 14: 'O1', 15: 'O2', 16: '17'}\n"
     ]
    }
   ],
   "source": [
    "# Hacer un diccionacio de los nombres de los canales\n",
    "channel_names = {}\n",
    "for i, channel in enumerate(eeg_stream['info']['desc'][0]['channels'][0]['channel']):\n",
    "    channel_names[i] = channel['label'][0]\n",
    "print(channel_names)"
   ]
  },
  {
   "cell_type": "markdown",
   "id": "3fcd3dc5",
   "metadata": {},
   "source": [
    "#### 1.1.2 Streams: EGG - `time_series`"
   ]
  },
  {
   "cell_type": "code",
   "execution_count": 6,
   "id": "c7f37b2a",
   "metadata": {},
   "outputs": [
    {
     "name": "stdout",
     "output_type": "stream",
     "text": [
      "EEG data shape (10256, 17)\n"
     ]
    }
   ],
   "source": [
    "eeg_stream = streams[eeg_stream_number]\n",
    "print('EEG data shape', eeg_stream['time_series'].shape)"
   ]
  },
  {
   "cell_type": "markdown",
   "id": "4c4d0301",
   "metadata": {},
   "source": [
    "Esto significa que hay 17 canales. Cada uno de los cuales ha recogido un número de 10256 de puntos en el tiempo o muestras.\n",
    "\n",
    "Cada punto de datos representa la actividad eléctrica medida por ese electrodo específico en un momento concreto.\n",
    "\n",
    "La forma de `eeg_stream['time_series']` es (10256, 17), lo que significa:\n",
    "\n",
    "- **Primera dimensión (10256)**: Representa el número de muestras temporales recogidas para cada canal.\n",
    "- **Segunda dimensión (17)**: Representa los canales o electrodos del registro EEG."
   ]
  },
  {
   "cell_type": "code",
   "execution_count": null,
   "id": "280fcdf3",
   "metadata": {},
   "outputs": [],
   "source": [
    "def plot_eeg_stream_time_series(eeg_time_series, channel_names=CHANNEL_NAMES):\n",
    "    time = np.arange(eeg_time_series.shape[0])\n",
    "    plt.figure(figsize=(15, 10))\n",
    "    num_channels = eeg_time_series.shape[1]\n",
    "    for i in range(num_channels):\n",
    "        signal= eeg_time_series[:, i]\n",
    "        plt.plot(time, signal, label=channel_names[i])\n",
    "        # Colocar la etiqueta encima de cada traza (en el primer 5% del eje X)\n",
    "        x_pos = int(0.01 * len(time))\n",
    "        y_pos = signal[x_pos]\n",
    "        plt.text(x_pos, y_pos, channel_names[i], fontsize=10)\n",
    "\n",
    "    plt.xlabel('Tiempo (muestras)')\n",
    "    plt.ylabel('Amplitud (uV)')\n",
    "    plt.title('Señales EEG sin procesar')\n",
    "    plt.legend(loc='center right')\n",
    "    plt.tight_layout()\n",
    "    plt.show()\n",
    "        "
   ]
  },
  {
   "cell_type": "markdown",
   "id": "25f695db",
   "metadata": {},
   "source": [
    "#### Amplitud en EEG\n",
    "\n",
    "- **Unidad**: La amplitud en los canales EEG se mide en microvoltios (μV).\n",
    "- **Valores actuales**: Los valores en tus datos parecen estar amplificados (~30,000-60,000) y probablemente necesitan ser convertidos a la escala correcta de microvoltios.\n",
    "- **Rango típico**: Las señales EEG normalmente tienen amplitudes entre 10 y 100 μV en un registro estándar.\n",
    "\n",
    "La conversión de los valores crudos a microvoltios dependerá del factor de amplificación específico utilizado en tu sistema de adquisición de Bitbrain.\n",
    "\n",
    "En estas señales de EEG crudas, los valores pueden parecer muy grandes (observo que están en el rango de 30,000-60,000). Esto podría deberse a que los datos aún no están convertidos a su escala física final. Es posible que el sistema de adquisición guarde los datos en valores enteros amplificados antes de su conversión final a microvoltios."
   ]
  },
  {
   "cell_type": "markdown",
   "id": "a5d01859",
   "metadata": {},
   "source": [
    "### 1.2 Streams: `eeg_quality`"
   ]
  },
  {
   "cell_type": "markdown",
   "id": "c376131e",
   "metadata": {},
   "source": [
    "El stream `eeg_quality` contiene información sobre la calidad de la señal de EEG para cada uno de los 16 canales en diferentes momentos del registro. "
   ]
  },
  {
   "cell_type": "code",
   "execution_count": null,
   "id": "7c460e0c",
   "metadata": {},
   "outputs": [
    {
     "name": "stdout",
     "output_type": "stream",
     "text": [
      "info\n",
      "footer\n",
      "time_series\n",
      "time_stamps\n",
      "clock_times\n",
      "clock_values\n"
     ]
    }
   ],
   "source": [
    "eeg_quality = streams[1]\n",
    "for key in eeg_quality.keys():\n",
    "    print(key)"
   ]
  },
  {
   "cell_type": "code",
   "execution_count": 252,
   "id": "76bb45f2",
   "metadata": {},
   "outputs": [
    {
     "data": {
      "text/plain": [
       "defaultdict(list,\n",
       "            {'name': ['Start_Stop'],\n",
       "             'type': ['Markers'],\n",
       "             'channel_count': ['1'],\n",
       "             'channel_format': ['string'],\n",
       "             'source_id': ['id23443'],\n",
       "             'nominal_srate': ['0.000000000000000'],\n",
       "             'version': ['1.100000000000000'],\n",
       "             'created_at': ['790229.7705827000'],\n",
       "             'uid': ['717f3870-686d-485e-8103-36ec6fc4e5c6'],\n",
       "             'session_id': ['default'],\n",
       "             'hostname': ['ultron'],\n",
       "             'v4address': [None],\n",
       "             'v4data_port': ['16574'],\n",
       "             'v4service_port': ['16574'],\n",
       "             'v6address': [None],\n",
       "             'v6data_port': ['16574'],\n",
       "             'v6service_port': ['16574'],\n",
       "             'desc': [None],\n",
       "             'stream_id': 2,\n",
       "             'effective_srate': 0,\n",
       "             'segments': []})"
      ]
     },
     "execution_count": 252,
     "metadata": {},
     "output_type": "execute_result"
    }
   ],
   "source": [
    "eeg_quality['info']"
   ]
  },
  {
   "cell_type": "markdown",
   "id": "2d038f2b",
   "metadata": {},
   "source": [
    "Información general (`info`):\n",
    "\n",
    "- Tipo: \"Markers\"\n",
    "- 16 canales (coincide con tu EEG)\n",
    "- Formato: int16 (valores enteros)\n",
    "- Frecuencia de muestreo nominal: 0 (indica que no es una señal continua, sino marcadores discretos)"
   ]
  },
  {
   "cell_type": "markdown",
   "id": "e56c5081",
   "metadata": {},
   "source": [
    "**eeg_quality**: `time_series`\n",
    "\n",
    "Matriz de 16 filas × 16 columnas (muestras × canales)\n",
    "\n",
    "Valores:\n",
    "\n",
    "- 1: very good signal quality\n",
    "- 2: good signal quality\n",
    "- 3: bad signal quality\n",
    "- 4: saturated signal\n",
    "- 5: no measuraments yet\n",
    "\n",
    "\n",
    "Patrón: \n",
    "Todos los canales excepto el último (canal 16) permanecen en 1, mientras que el canal 16 empieza a degradarse en la tercera muestra. Y empeora en las últimas 3 muestras."
   ]
  },
  {
   "cell_type": "code",
   "execution_count": 253,
   "id": "c213cd2c",
   "metadata": {},
   "outputs": [
    {
     "data": {
      "text/plain": [
       "[]"
      ]
     },
     "execution_count": 253,
     "metadata": {},
     "output_type": "execute_result"
    }
   ],
   "source": [
    "eeg_quality['time_series']"
   ]
  },
  {
   "cell_type": "markdown",
   "id": "52bdb894",
   "metadata": {},
   "source": [
    "**eeg_quality**: `time_stamps`\n",
    "\n",
    "Tiempos correspondientes a cada muestra (16 valores)\n",
    "\n",
    "Desde ~586276s hasta ~586314s (unos 38 segundos de registro)"
   ]
  },
  {
   "cell_type": "code",
   "execution_count": 247,
   "id": "19738d0c",
   "metadata": {},
   "outputs": [
    {
     "data": {
      "text/plain": [
       "array([676781.22219659, 676783.72264603, 676786.25436945, 676788.78501388,\n",
       "       676791.3173973 , 676793.84772073, 676796.41059315, 676798.94149857,\n",
       "       676801.47333   , 676803.97301543, 676806.53568185, 676809.06691528,\n",
       "       676811.5984977 , 676814.16117412, 676816.63027656, 676819.16104499,\n",
       "       676821.69155941, 676824.22322084, 676826.75399227, 676829.28500069,\n",
       "       676831.81721212, 676834.34804254, 676836.87904897])"
      ]
     },
     "execution_count": 247,
     "metadata": {},
     "output_type": "execute_result"
    }
   ],
   "source": [
    "eeg_quality['time_stamps']"
   ]
  },
  {
   "cell_type": "markdown",
   "id": "c60efee5",
   "metadata": {},
   "source": [
    "**Interpretación: calidad por canal:** \n",
    "\n",
    "El canal 16 (última columna) es el único que muestra problemas:\n",
    "\n",
    "- Desde ~586281.49s (3ª muestra): Calidad empieza a degradarse (valor 2)\n",
    "- Desde ~586309.30s (14ª muestra): Calidad empeora aún más (valor 3)\n",
    "\n",
    "Los otros 15 canales mantienen calidad óptima (1) durante todo el registro."
   ]
  },
  {
   "cell_type": "code",
   "execution_count": null,
   "id": "1eda6cfe",
   "metadata": {},
   "outputs": [
    {
     "data": {
      "image/png": "[encoded data removed]",
      "text/plain": [
       "<Figure size 1500x800 with 1 Axes>"
      ]
     },
     "metadata": {},
     "output_type": "display_data"
    }
   ],
   "source": [
    "# Llamar a la función para graficar\n",
    "plot_signal_quality()"
   ]
  },
  {
   "cell_type": "code",
   "execution_count": null,
   "id": "6162244c",
   "metadata": {},
   "outputs": [],
   "source": [
    "# Acceder a los marcadores del Stroop\n",
    "stroop_times = DaniEEGData.stroop_stream['time_stamps']\n",
    "stroop_markers = DaniEEGData.stroop_stream['time_series']\n",
    "\n",
    "# Mostrar los primeros 10 marcadores y sus tiempos\n",
    "for t, m in zip(stroop_times[:10], stroop_markers[:10]):\n",
    "    print(f\"Tiempo: {t:.3f}  -  Marcador: {m[0]}\")"
   ]
  }
 ],
 "metadata": {
  "kernelspec": {
   "display_name": "eeg_env_312",
   "language": "python",
   "name": "python3"
  },
  "language_info": {
   "codemirror_mode": {
    "name": "ipython",
    "version": 3
   },
   "file_extension": ".py",
   "mimetype": "text/x-python",
   "name": "python",
   "nbconvert_exporter": "python",
   "pygments_lexer": "ipython3",
   "version": "3.12.6"
  }
 },
 "nbformat": 4,
 "nbformat_minor": 5
}
